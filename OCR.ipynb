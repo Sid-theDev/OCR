{
 "cells": [
  {
   "cell_type": "code",
   "execution_count": 2,
   "id": "4e0599a3",
   "metadata": {},
   "outputs": [],
   "source": [
    "from tensorflow.keras.datasets import mnist\n",
    "import numpy as np\n",
    "import tensorflow as tf\n",
    "from tensorflow.keras.preprocessing.image import ImageDataGenerator\n",
    "from tensorflow.keras.optimizers import SGD\n",
    "from sklearn.model_selection import train_test_split\n",
    "from sklearn.metrics import classification_report\n",
    "from imutils import build_montages\n",
    "import matplotlib.pyplot as plt\n",
    "import argparse\n",
    "import cv2\n",
    "import os\n",
    "from collections import OrderedDict\n",
    "from sklearn.preprocessing import LabelBinarizer"
   ]
  },
  {
   "cell_type": "markdown",
   "id": "752d96af",
   "metadata": {},
   "source": [
    "# Data Preprocessing"
   ]
  },
  {
   "cell_type": "code",
   "execution_count": 3,
   "id": "05ac6333",
   "metadata": {},
   "outputs": [],
   "source": [
    "folders = []"
   ]
  },
  {
   "cell_type": "code",
   "execution_count": 4,
   "id": "34ae3b3b",
   "metadata": {},
   "outputs": [],
   "source": [
    "path = 'Data/EnglishImg/English/Img/GoodImg/Bmp'"
   ]
  },
  {
   "cell_type": "code",
   "execution_count": 5,
   "id": "d1581baa",
   "metadata": {},
   "outputs": [],
   "source": [
    "for root, dirnames, filenames in os.walk(path):\n",
    "    for j in dirnames:\n",
    "        folders.append(j)"
   ]
  },
  {
   "cell_type": "code",
   "execution_count": 6,
   "id": "47b15763",
   "metadata": {},
   "outputs": [
    {
     "data": {
      "text/plain": [
       "62"
      ]
     },
     "execution_count": 6,
     "metadata": {},
     "output_type": "execute_result"
    }
   ],
   "source": [
    "len(folders)"
   ]
  },
  {
   "cell_type": "code",
   "execution_count": 7,
   "id": "7cd106fc",
   "metadata": {},
   "outputs": [],
   "source": [
    "files = {}"
   ]
  },
  {
   "cell_type": "code",
   "execution_count": 8,
   "id": "8378950f",
   "metadata": {},
   "outputs": [],
   "source": [
    "# Soring the files in ascending order of names\n",
    "for i in folders:\n",
    "    files[i]=os.listdir(\"Data/EnglishImg/English/Img/GoodImg/Bmp/\"+i)"
   ]
  },
  {
   "cell_type": "code",
   "execution_count": 9,
   "id": "442cec91",
   "metadata": {},
   "outputs": [],
   "source": [
    "dict1 = OrderedDict(sorted(files.items()))"
   ]
  },
  {
   "cell_type": "code",
   "execution_count": 10,
   "id": "bdc920a8",
   "metadata": {},
   "outputs": [
    {
     "data": {
      "text/plain": [
       "odict_keys(['Sample001', 'Sample002', 'Sample003', 'Sample004', 'Sample005', 'Sample006', 'Sample007', 'Sample008', 'Sample009', 'Sample010', 'Sample011', 'Sample012', 'Sample013', 'Sample014', 'Sample015', 'Sample016', 'Sample017', 'Sample018', 'Sample019', 'Sample020', 'Sample021', 'Sample022', 'Sample023', 'Sample024', 'Sample025', 'Sample026', 'Sample027', 'Sample028', 'Sample029', 'Sample030', 'Sample031', 'Sample032', 'Sample033', 'Sample034', 'Sample035', 'Sample036', 'Sample037', 'Sample038', 'Sample039', 'Sample040', 'Sample041', 'Sample042', 'Sample043', 'Sample044', 'Sample045', 'Sample046', 'Sample047', 'Sample048', 'Sample049', 'Sample050', 'Sample051', 'Sample052', 'Sample053', 'Sample054', 'Sample055', 'Sample056', 'Sample057', 'Sample058', 'Sample059', 'Sample060', 'Sample061', 'Sample062'])"
      ]
     },
     "execution_count": 10,
     "metadata": {},
     "output_type": "execute_result"
    }
   ],
   "source": [
    "dict1.keys()"
   ]
  },
  {
   "cell_type": "code",
   "execution_count": 11,
   "id": "ec047002",
   "metadata": {},
   "outputs": [
    {
     "data": {
      "text/plain": [
       "['img001-00001.png',\n",
       " 'img001-00002.png',\n",
       " 'img001-00003.png',\n",
       " 'img001-00004.png',\n",
       " 'img001-00005.png',\n",
       " 'img001-00006.png',\n",
       " 'img001-00007.png',\n",
       " 'img001-00008.png',\n",
       " 'img001-00009.png',\n",
       " 'img001-00010.png',\n",
       " 'img001-00011.png',\n",
       " 'img001-00012.png',\n",
       " 'img001-00013.png',\n",
       " 'img001-00014.png',\n",
       " 'img001-00015.png',\n",
       " 'img001-00016.png',\n",
       " 'img001-00017.png',\n",
       " 'img001-00018.png',\n",
       " 'img001-00019.png',\n",
       " 'img001-00020.png',\n",
       " 'img001-00021.png',\n",
       " 'img001-00022.png',\n",
       " 'img001-00023.png',\n",
       " 'img001-00024.png',\n",
       " 'img001-00025.png',\n",
       " 'img001-00026.png',\n",
       " 'img001-00027.png',\n",
       " 'img001-00028.png',\n",
       " 'img001-00029.png',\n",
       " 'img001-00030.png',\n",
       " 'img001-00031.png',\n",
       " 'img001-00032.png',\n",
       " 'img001-00033.png',\n",
       " 'img001-00034.png',\n",
       " 'img001-00035.png',\n",
       " 'img001-00036.png',\n",
       " 'img001-00037.png',\n",
       " 'img001-00038.png',\n",
       " 'img001-00039.png',\n",
       " 'img001-00040.png',\n",
       " 'img001-00041.png',\n",
       " 'img001-00042.png',\n",
       " 'img001-00043.png',\n",
       " 'img001-00044.png',\n",
       " 'img001-00045.png',\n",
       " 'img001-00046.png',\n",
       " 'img001-00047.png',\n",
       " 'img001-00048.png',\n",
       " 'img001-00049.png',\n",
       " 'img001-00050.png',\n",
       " 'img001-00051.png',\n",
       " 'img001-00052.png',\n",
       " 'img001-00053.png',\n",
       " 'img001-00054.png',\n",
       " 'img001-00055.png',\n",
       " 'img001-00056.png',\n",
       " 'img001-00057.png',\n",
       " 'img001-00058.png',\n",
       " 'img001-00059.png',\n",
       " 'img001-00060.png',\n",
       " 'img001-00061.png',\n",
       " 'img001-00062.png',\n",
       " 'img001-00063.png',\n",
       " 'img001-00064.png',\n",
       " 'img001-00065.png',\n",
       " 'img001-00066.png',\n",
       " 'img001-00067.png',\n",
       " 'img001-00068.png',\n",
       " 'img001-00069.png',\n",
       " 'img001-00070.png',\n",
       " 'img001-00071.png',\n",
       " 'img001-00072.png',\n",
       " 'img001-00073.png',\n",
       " 'img001-00074.png',\n",
       " 'img001-00075.png',\n",
       " 'img001-00076.png',\n",
       " 'img001-00077.png',\n",
       " 'img001-00078.png',\n",
       " 'img001-00079.png',\n",
       " 'img001-00080.png',\n",
       " 'img001-00081.png',\n",
       " 'img001-00082.png',\n",
       " 'img001-00083.png',\n",
       " 'img001-00084.png',\n",
       " 'img001-00085.png',\n",
       " 'img001-00086.png',\n",
       " 'img001-00087.png',\n",
       " 'img001-00088.png',\n",
       " 'img001-00089.png',\n",
       " 'img001-00090.png',\n",
       " 'img001-00091.png',\n",
       " 'img001-00092.png',\n",
       " 'img001-00093.png',\n",
       " 'img001-00094.png',\n",
       " 'img001-00095.png',\n",
       " 'img001-00096.png',\n",
       " 'img001-00097.png',\n",
       " 'img001-00098.png',\n",
       " 'img001-00099.png',\n",
       " 'img001-00100.png',\n",
       " 'img001-00101.png',\n",
       " 'img001-00102.png',\n",
       " 'img001-00103.png',\n",
       " 'img001-00104.png',\n",
       " 'img001-00105.png']"
      ]
     },
     "execution_count": 11,
     "metadata": {},
     "output_type": "execute_result"
    }
   ],
   "source": [
    "dict1['Sample001']"
   ]
  },
  {
   "cell_type": "code",
   "execution_count": 12,
   "id": "f76bf137",
   "metadata": {},
   "outputs": [],
   "source": [
    "f = open(\"labels.txt\", \"a\")\n",
    "for i in dict1.keys():\n",
    "    for j in dict1[i]:\n",
    "        f.write(\"English/Img/GoodImg\"+i+\"/\"+j+\"\\n\")\n",
    "f.close()        "
   ]
  },
  {
   "cell_type": "code",
   "execution_count": 13,
   "id": "2bef5b59",
   "metadata": {},
   "outputs": [],
   "source": [
    "l=\"0123456789ABCDEFGHIJKLMNOPQRSTUVWXYZabcdefghijklmnopqrstuvwxyz\"\n"
   ]
  },
  {
   "cell_type": "markdown",
   "id": "817dc124",
   "metadata": {},
   "source": [
    "## Creating labels and data "
   ]
  },
  {
   "cell_type": "code",
   "execution_count": 14,
   "id": "37e1613a",
   "metadata": {},
   "outputs": [],
   "source": [
    "data = []\n",
    "labels=[]\n",
    "tmp=0"
   ]
  },
  {
   "cell_type": "code",
   "execution_count": 15,
   "id": "6ed53e77",
   "metadata": {},
   "outputs": [],
   "source": [
    "img = cv2.imread('Data/EnglishImg/English/Img/GoodImg/Bmp/Sample041/img041-00190.png')"
   ]
  },
  {
   "cell_type": "code",
   "execution_count": 16,
   "id": "5365b56a",
   "metadata": {},
   "outputs": [
    {
     "data": {
      "text/plain": [
       "(62, 43, 3)"
      ]
     },
     "execution_count": 16,
     "metadata": {},
     "output_type": "execute_result"
    }
   ],
   "source": [
    "img.shape"
   ]
  },
  {
   "cell_type": "code",
   "execution_count": 17,
   "id": "db332dbd",
   "metadata": {},
   "outputs": [],
   "source": [
    "img = cv2.cvtColor(img, cv2.COLOR_BGR2GRAY)"
   ]
  },
  {
   "cell_type": "markdown",
   "id": "9cefbd19",
   "metadata": {},
   "source": [
    "# Converting images to 28x28 "
   ]
  },
  {
   "cell_type": "code",
   "execution_count": 18,
   "id": "0dc19fc7",
   "metadata": {},
   "outputs": [],
   "source": [
    "def conTO28x28(path):\n",
    "    \n",
    "    img = cv2.cvtColor(cv2.imread(path), cv2.COLOR_BGR2GRAY)   \n",
    "\n",
    "    # convert each image of shape (32, 28, 1)\n",
    "    w, h = img.shape\n",
    "    if h > 28 or w > 28:\n",
    "        \n",
    "        (tH, tW) = img.shape\n",
    "        dX = int(max(0, 28 - tW) / 2.0)\n",
    "        dY = int(max(0, 28 - tH) / 2.0)\n",
    "\n",
    "        img = cv2.copyMakeBorder(img, top=dY, bottom=dY,\n",
    "              left=dX, right=dX, borderType=cv2.BORDER_CONSTANT,\n",
    "              value=(0, 0, 0))\n",
    "        img = cv2.resize(img, (28, 28))\n",
    "\n",
    "    w, h = img.shape\n",
    "\n",
    "    if w < 28:\n",
    "        add_zeros = np.ones((28-w, h))*255\n",
    "        img = np.concatenate((img, add_zeros))\n",
    "\n",
    "    if h < 28:\n",
    "        add_zeros = np.ones((28, 28-h))*255\n",
    "        img = np.concatenate((img, add_zeros), axis=1)\n",
    "    return img"
   ]
  },
  {
   "cell_type": "code",
   "execution_count": 19,
   "id": "5a8fb4a5",
   "metadata": {},
   "outputs": [],
   "source": [
    "image = conTO28x28('Data/EnglishImg/English/Img/GoodImg/Bmp/Sample001/img001-00001.png')"
   ]
  },
  {
   "cell_type": "code",
   "execution_count": 20,
   "id": "edbdb2cd",
   "metadata": {},
   "outputs": [
    {
     "data": {
      "text/plain": [
       "(28, 28)"
      ]
     },
     "execution_count": 20,
     "metadata": {},
     "output_type": "execute_result"
    }
   ],
   "source": [
    "image.shape"
   ]
  },
  {
   "cell_type": "code",
   "execution_count": 21,
   "id": "bf89b795",
   "metadata": {},
   "outputs": [
    {
     "data": {
      "text/plain": [
       "<matplotlib.image.AxesImage at 0x246f2cc1070>"
      ]
     },
     "execution_count": 21,
     "metadata": {},
     "output_type": "execute_result"
    },
    {
     "data": {
      "image/png": "[encoded data removed]",
      "text/plain": [
       "<Figure size 640x480 with 1 Axes>"
      ]
     },
     "metadata": {},
     "output_type": "display_data"
    }
   ],
   "source": [
    "plt.imshow(image)"
   ]
  },
  {
   "cell_type": "markdown",
   "id": "7f70f39d",
   "metadata": {},
   "source": [
    "# Giving Labels to images"
   ]
  },
  {
   "cell_type": "code",
   "execution_count": 22,
   "id": "386cb7bf",
   "metadata": {},
   "outputs": [],
   "source": [
    "for i in dict1.keys():\n",
    "    for j in dict1[i]:\n",
    "        labels.append(tmp)\n",
    "        image = conTO28x28(\"Data/EnglishImg/English/Img/GoodImg/Bmp/\"+i+\"/\"+j)\n",
    "        data.append(image)\n",
    "    tmp+=1"
   ]
  },
  {
   "cell_type": "code",
   "execution_count": 23,
   "id": "4f3c5732",
   "metadata": {},
   "outputs": [],
   "source": [
    "from numpy import save"
   ]
  },
  {
   "cell_type": "code",
   "execution_count": 24,
   "id": "391c8986",
   "metadata": {},
   "outputs": [
    {
     "data": {
      "text/plain": [
       "7705"
      ]
     },
     "execution_count": 24,
     "metadata": {},
     "output_type": "execute_result"
    }
   ],
   "source": [
    "len(labels)"
   ]
  },
  {
   "cell_type": "code",
   "execution_count": 25,
   "id": "8b31cfe2",
   "metadata": {},
   "outputs": [],
   "source": [
    "labels = np.array(labels, dtype=\"int\")\n",
    "data = np.array(data, dtype='float32')"
   ]
  },
  {
   "cell_type": "code",
   "execution_count": 26,
   "id": "40e1cade",
   "metadata": {},
   "outputs": [
    {
     "data": {
      "text/plain": [
       "62"
      ]
     },
     "execution_count": 26,
     "metadata": {},
     "output_type": "execute_result"
    }
   ],
   "source": [
    "tmp"
   ]
  },
  {
   "cell_type": "code",
   "execution_count": 27,
   "id": "1eb11ebb",
   "metadata": {},
   "outputs": [
    {
     "data": {
      "text/plain": [
       "array([ 0,  0,  0, ..., 61, 61, 61])"
      ]
     },
     "execution_count": 27,
     "metadata": {},
     "output_type": "execute_result"
    }
   ],
   "source": [
    "labels"
   ]
  },
  {
   "cell_type": "code",
   "execution_count": 28,
   "id": "e225fd2b",
   "metadata": {},
   "outputs": [],
   "source": [
    "save('data.npy', data)\n",
    "save('labels.npy', labels)"
   ]
  },
  {
   "cell_type": "code",
   "execution_count": 29,
   "id": "7243c037",
   "metadata": {},
   "outputs": [],
   "source": [
    "tmp_data = np.load('data.npy')"
   ]
  },
  {
   "cell_type": "code",
   "execution_count": 30,
   "id": "c6121751",
   "metadata": {},
   "outputs": [
    {
     "data": {
      "text/plain": [
       "(7705, 28, 28)"
      ]
     },
     "execution_count": 30,
     "metadata": {},
     "output_type": "execute_result"
    }
   ],
   "source": [
    "tmp_data.shape"
   ]
  },
  {
   "cell_type": "markdown",
   "id": "0706c549",
   "metadata": {},
   "source": [
    "# Combining Mnist and A-Z datasets "
   ]
  },
  {
   "cell_type": "code",
   "execution_count": 31,
   "id": "50e9df43",
   "metadata": {},
   "outputs": [],
   "source": [
    "def load_az_dataset(datasetPath):\n",
    "    data = []\n",
    "    labels = []\n",
    "    for row in open(datasetPath):\n",
    "        row = row.split(\",\")\n",
    "        label = int(row[0])\n",
    "        image = np.array([int(x) for x in row[1:]], dtype=\"uint8\")\n",
    "        image = image.reshape((28,28))\n",
    "        data.append(image)\n",
    "        labels.append(label)\n",
    "    data = np.array(data, dtype=\"float32\")\n",
    "    labels = np.array(labels, dtype=\"int\")\n",
    "    return (data, labels)"
   ]
  },
  {
   "cell_type": "code",
   "execution_count": 32,
   "id": "6a39fb82",
   "metadata": {},
   "outputs": [],
   "source": [
    "((trainData, trainLabels), (testData, testLabels)) = mnist.load_data()\n",
    "(azData, azLabels) = load_az_dataset(\"Data/A_Z Handwritten Data.csv\")"
   ]
  },
  {
   "cell_type": "code",
   "execution_count": 33,
   "id": "8cf7e45e",
   "metadata": {},
   "outputs": [
    {
     "data": {
      "text/plain": [
       "(372451, 28, 28)"
      ]
     },
     "execution_count": 33,
     "metadata": {},
     "output_type": "execute_result"
    }
   ],
   "source": [
    "azData.shape"
   ]
  },
  {
   "cell_type": "markdown",
   "id": "dda95179",
   "metadata": {},
   "source": [
    "# Stacking up the training set and test set of mnist"
   ]
  },
  {
   "cell_type": "code",
   "execution_count": 34,
   "id": "dff116f0",
   "metadata": {},
   "outputs": [],
   "source": [
    "mnist_data = np.vstack([trainData, testData])\n",
    "mnist_labels = np.hstack([trainLabels, testLabels])"
   ]
  },
  {
   "cell_type": "code",
   "execution_count": 35,
   "id": "ec637ed0",
   "metadata": {},
   "outputs": [
    {
     "data": {
      "text/plain": [
       "(28, 28)"
      ]
     },
     "execution_count": 35,
     "metadata": {},
     "output_type": "execute_result"
    }
   ],
   "source": [
    "mnist_data[0].shape"
   ]
  },
  {
   "cell_type": "code",
   "execution_count": 36,
   "id": "ae251dd2",
   "metadata": {},
   "outputs": [
    {
     "data": {
      "text/plain": [
       "(7705,)"
      ]
     },
     "execution_count": 36,
     "metadata": {},
     "output_type": "execute_result"
    }
   ],
   "source": [
    "labels.shape"
   ]
  },
  {
   "cell_type": "code",
   "execution_count": 37,
   "id": "43b45bb8",
   "metadata": {},
   "outputs": [],
   "source": [
    "azLabels+=10"
   ]
  },
  {
   "cell_type": "markdown",
   "id": "ffebb167",
   "metadata": {},
   "source": [
    "# Combining all the three datasets"
   ]
  },
  {
   "cell_type": "code",
   "execution_count": 38,
   "id": "de5e0314",
   "metadata": {},
   "outputs": [],
   "source": [
    "labels1=np.hstack([mnist_labels, labels, azLabels])\n",
    "data1=np.vstack([mnist_data, data, azData])"
   ]
  },
  {
   "cell_type": "code",
   "execution_count": 39,
   "id": "38496313",
   "metadata": {},
   "outputs": [
    {
     "data": {
      "text/plain": [
       "(450156,)"
      ]
     },
     "execution_count": 39,
     "metadata": {},
     "output_type": "execute_result"
    }
   ],
   "source": [
    "labels1.shape"
   ]
  },
  {
   "cell_type": "code",
   "execution_count": 40,
   "id": "b3434b2c",
   "metadata": {},
   "outputs": [
    {
     "data": {
      "text/plain": [
       "(450156, 28, 28)"
      ]
     },
     "execution_count": 40,
     "metadata": {},
     "output_type": "execute_result"
    }
   ],
   "source": [
    "data1.shape"
   ]
  },
  {
   "cell_type": "markdown",
   "id": "7bf3577e",
   "metadata": {},
   "source": [
    "# Saving the combined dataset into .npy"
   ]
  },
  {
   "cell_type": "code",
   "execution_count": 41,
   "id": "4d50895d",
   "metadata": {},
   "outputs": [],
   "source": [
    "save(\"Data/combined_data.npy\", data1)\n",
    "save(\"Data/combined_labels.npy\", labels1)"
   ]
  },
  {
   "cell_type": "code",
   "execution_count": 42,
   "id": "2ce9c232",
   "metadata": {},
   "outputs": [],
   "source": [
    "loaded_data = np.load('Data/combined_data.npy')\n",
    "loaded_labels = np.load('Data/combined_labels.npy')"
   ]
  },
  {
   "cell_type": "code",
   "execution_count": 43,
   "id": "09de1f41",
   "metadata": {},
   "outputs": [
    {
     "data": {
      "text/plain": [
       "(450156, 28, 28)"
      ]
     },
     "execution_count": 43,
     "metadata": {},
     "output_type": "execute_result"
    }
   ],
   "source": [
    "loaded_data.shape"
   ]
  },
  {
   "cell_type": "code",
   "execution_count": 44,
   "id": "f0ab7e78",
   "metadata": {},
   "outputs": [
    {
     "data": {
      "text/plain": [
       "(450156,)"
      ]
     },
     "execution_count": 44,
     "metadata": {},
     "output_type": "execute_result"
    }
   ],
   "source": [
    "loaded_labels.shape"
   ]
  },
  {
   "cell_type": "code",
   "execution_count": 45,
   "id": "34d5fc48",
   "metadata": {},
   "outputs": [
    {
     "data": {
      "text/plain": [
       "<matplotlib.image.AxesImage at 0x246f4ec32e0>"
      ]
     },
     "execution_count": 45,
     "metadata": {},
     "output_type": "execute_result"
    },
    {
     "data": {
      "image/png": "[encoded data removed]",
      "text/plain": [
       "<Figure size 640x480 with 1 Axes>"
      ]
     },
     "metadata": {},
     "output_type": "display_data"
    }
   ],
   "source": [
    "plt.imshow(loaded_data[-50000])"
   ]
  },
  {
   "cell_type": "code",
   "execution_count": 46,
   "id": "9efbd1d9",
   "metadata": {},
   "outputs": [],
   "source": [
    "tmp_img = cv2.resize(loaded_data[0], (32, 32))"
   ]
  },
  {
   "cell_type": "code",
   "execution_count": 47,
   "id": "22d5973d",
   "metadata": {},
   "outputs": [
    {
     "data": {
      "text/plain": [
       "(32, 32)"
      ]
     },
     "execution_count": 47,
     "metadata": {},
     "output_type": "execute_result"
    }
   ],
   "source": [
    "tmp_img.shape"
   ]
  },
  {
   "cell_type": "code",
   "execution_count": 48,
   "id": "8a1710cb",
   "metadata": {},
   "outputs": [],
   "source": [
    "data = [cv2.resize(image, (32,32)) for image in loaded_data]\n",
    "data = np.array(data, dtype='float32')"
   ]
  },
  {
   "cell_type": "code",
   "execution_count": 49,
   "id": "fcb585d8",
   "metadata": {},
   "outputs": [
    {
     "data": {
      "text/plain": [
       "(450156, 32, 32)"
      ]
     },
     "execution_count": 49,
     "metadata": {},
     "output_type": "execute_result"
    }
   ],
   "source": [
    "data.shape"
   ]
  },
  {
   "cell_type": "code",
   "execution_count": 50,
   "id": "e1ce08f7",
   "metadata": {},
   "outputs": [],
   "source": [
    "data2 = np.expand_dims(data, axis=-1)"
   ]
  },
  {
   "cell_type": "code",
   "execution_count": 51,
   "id": "9b0bcd59",
   "metadata": {},
   "outputs": [
    {
     "data": {
      "text/plain": [
       "(450156, 32, 32, 1)"
      ]
     },
     "execution_count": 51,
     "metadata": {},
     "output_type": "execute_result"
    }
   ],
   "source": [
    "data2.shape"
   ]
  },
  {
   "cell_type": "code",
   "execution_count": 52,
   "id": "7d6c24f3",
   "metadata": {},
   "outputs": [],
   "source": [
    "le = LabelBinarizer()\n",
    "labels = le.fit_transform(loaded_labels)\n",
    "counts = labels.sum(axis=0)"
   ]
  },
  {
   "cell_type": "code",
   "execution_count": 53,
   "id": "b8e6342c",
   "metadata": {},
   "outputs": [
    {
     "data": {
      "text/plain": [
       "array([0, 0, 0, 0, 0, 1, 0, 0, 0, 0, 0, 0, 0, 0, 0, 0, 0, 0, 0, 0, 0, 0,\n",
       "       0, 0, 0, 0, 0, 0, 0, 0, 0, 0, 0, 0, 0, 0, 0, 0, 0, 0, 0, 0, 0, 0,\n",
       "       0, 0, 0, 0, 0, 0, 0, 0, 0, 0, 0, 0, 0, 0, 0, 0, 0, 0])"
      ]
     },
     "execution_count": 53,
     "metadata": {},
     "output_type": "execute_result"
    }
   ],
   "source": [
    "labels[0]"
   ]
  },
  {
   "cell_type": "markdown",
   "id": "c5413cdc",
   "metadata": {},
   "source": [
    "# Calculating class weights in dataset"
   ]
  },
  {
   "cell_type": "code",
   "execution_count": 54,
   "id": "869b06e4",
   "metadata": {},
   "outputs": [],
   "source": [
    "classTotals = labels.sum(axis=0)\n",
    "classWeight = {}\n",
    "\n",
    "for i in range(0, len(classTotals)):\n",
    "    classWeight[i] = classTotals.max() / classTotals[i]"
   ]
  },
  {
   "cell_type": "code",
   "execution_count": 55,
   "id": "95e88236",
   "metadata": {},
   "outputs": [
    {
     "data": {
      "text/plain": [
       "{0: 8.305793378995434,\n",
       " 1: 7.316113624937154,\n",
       " 2: 8.244617563739377,\n",
       " 3: 8.094423585036852,\n",
       " 4: 8.471401542715762,\n",
       " 5: 9.127646228634154,\n",
       " 6: 8.387175792507204,\n",
       " 7: 7.929028742678109,\n",
       " 8: 8.488697681201693,\n",
       " 9: 8.324799771167047,\n",
       " 10: 4.034308289437205,\n",
       " 11: 6.6272344301491515,\n",
       " 12: 2.463892651540806,\n",
       " 13: 5.637481840193705,\n",
       " 14: 4.897105838801952,\n",
       " 15: 46.86553945249597,\n",
       " 16: 9.857239627434378,\n",
       " 17: 7.85413574416408,\n",
       " 18: 40.933192686357245,\n",
       " 19: 6.791948658109685,\n",
       " 20: 10.22071992976295,\n",
       " 21: 4.932378611982036,\n",
       " 22: 4.662154585502603,\n",
       " 23: 3.004542404377226,\n",
       " 24: 1.0,\n",
       " 25: 2.984974358974359,\n",
       " 26: 9.955019668205917,\n",
       " 27: 4.868841488916771,\n",
       " 28: 1.1937203912963228,\n",
       " 29: 2.5521550401192616,\n",
       " 30: 2.000240549828179,\n",
       " 31: 13.644397562119082,\n",
       " 32: 5.364206063957239,\n",
       " 33: 9.163570528967254,\n",
       " 34: 5.327384221123925,\n",
       " 35: 9.493883542652096,\n",
       " 36: 368.3987341772152,\n",
       " 37: 1531.7631578947369,\n",
       " 38: 923.9206349206349,\n",
       " 39: 1265.3695652173913,\n",
       " 40: 256.4185022026432,\n",
       " 41: 1573.162162162162,\n",
       " 42: 1616.861111111111,\n",
       " 43: 1119.3653846153845,\n",
       " 44: 458.3228346456693,\n",
       " 45: 1763.8484848484848,\n",
       " 46: 1711.9705882352941,\n",
       " 47: 1003.5689655172414,\n",
       " 48: 1353.6511627906978,\n",
       " 49: 431.162962962963,\n",
       " 50: 393.2905405405405,\n",
       " 51: 1573.162162162162,\n",
       " 52: 1077.9074074074074,\n",
       " 53: 461.96031746031747,\n",
       " 54: 469.41129032258067,\n",
       " 55: 524.3873873873874,\n",
       " 56: 1419.6829268292684,\n",
       " 57: 1763.8484848484848,\n",
       " 58: 1616.861111111111,\n",
       " 59: 1663.057142857143,\n",
       " 60: 1353.6511627906978,\n",
       " 61: 1663.057142857143}"
      ]
     },
     "execution_count": 55,
     "metadata": {},
     "output_type": "execute_result"
    }
   ],
   "source": [
    "classWeight"
   ]
  },
  {
   "cell_type": "markdown",
   "id": "33cd2893",
   "metadata": {},
   "source": [
    "# Performing data augmentation"
   ]
  },
  {
   "cell_type": "code",
   "execution_count": 56,
   "id": "c43f8af6",
   "metadata": {},
   "outputs": [],
   "source": [
    "(trainX, testX, trainY, testY) = train_test_split(data2,\n",
    "\tlabels, test_size=0.25, stratify=labels, random_state=42)"
   ]
  },
  {
   "cell_type": "code",
   "execution_count": 57,
   "id": "b1ae24b6",
   "metadata": {},
   "outputs": [],
   "source": [
    "aug = ImageDataGenerator(\n",
    "    rotation_range = 10,\n",
    "    zoom_range=0.05,\n",
    "    width_shift_range=0.1,\n",
    "    shear_range=0.15,\n",
    "    height_shift_range=0.1,\n",
    "    fill_mode=\"nearest\"\n",
    ")"
   ]
  },
  {
   "cell_type": "markdown",
   "id": "b09deadc",
   "metadata": {},
   "source": [
    "# Building Resnet Model"
   ]
  },
  {
   "cell_type": "code",
   "execution_count": 58,
   "id": "979b365b",
   "metadata": {},
   "outputs": [],
   "source": [
    "from tensorflow.keras.layers import BatchNormalization\n",
    "from keras.layers.convolutional import Conv2D, AveragePooling2D, MaxPooling2D, ZeroPadding2D\n",
    "from keras.layers.core import  Flatten\n",
    "from keras.layers.core import Activation, Dense\n",
    "from keras.layers import Flatten, Input\n",
    "from keras.models import Model\n",
    "from keras.layers import add\n",
    "from keras.regularizers import l2\n",
    "from keras import backend as K"
   ]
  },
  {
   "cell_type": "code",
   "execution_count": 59,
   "id": "dffcabe9",
   "metadata": {},
   "outputs": [],
   "source": [
    "class ResNet:\n",
    "\t@staticmethod\n",
    "\tdef residual_module(data, K, stride, chanDim, red=False,\n",
    "\t\treg=0.0001, bnEps=2e-5, bnMom=0.9):\n",
    "\t\t# the shortcut branch of the ResNet module should be\n",
    "\t\t# initialize as the input (identity) data\n",
    "\t\tshortcut = data\n",
    "\n",
    "\t\t# the first block of the ResNet module are the 1x1 CONVs\n",
    "\t\tbn1 = BatchNormalization(axis=chanDim, epsilon=bnEps,\n",
    "\t\t\tmomentum=bnMom)(data)\n",
    "\t\tact1 = Activation(\"relu\")(bn1)\n",
    "\t\tconv1 = Conv2D(int(K * 0.25), (1, 1), use_bias=False,\n",
    "\t\t\tkernel_regularizer=l2(reg))(act1)\n",
    "\n",
    "\t\t# the second block of the ResNet module are the 3x3 CONVs\n",
    "\t\tbn2 = BatchNormalization(axis=chanDim, epsilon=bnEps,\n",
    "\t\t\tmomentum=bnMom)(conv1)\n",
    "\t\tact2 = Activation(\"relu\")(bn2)\n",
    "\t\tconv2 = Conv2D(int(K * 0.25), (3, 3), strides=stride,\n",
    "\t\t\tpadding=\"same\", use_bias=False,\n",
    "\t\t\tkernel_regularizer=l2(reg))(act2)\n",
    "\n",
    "\t\t# the third block of the ResNet module is another set of 1x1\n",
    "\t\t# CONVs\n",
    "\t\tbn3 = BatchNormalization(axis=chanDim, epsilon=bnEps,\n",
    "\t\t\tmomentum=bnMom)(conv2)\n",
    "\t\tact3 = Activation(\"relu\")(bn3)\n",
    "\t\tconv3 = Conv2D(K, (1, 1), use_bias=False,\n",
    "\t\t\tkernel_regularizer=l2(reg))(act3)\n",
    "\n",
    "\t\t# if we are to reduce the spatial size, apply a CONV layer to\n",
    "\t\t# the shortcut\n",
    "\t\tif red:\n",
    "\t\t\tshortcut = Conv2D(K, (1, 1), strides=stride,\n",
    "\t\t\t\tuse_bias=False, kernel_regularizer=l2(reg))(act1)\n",
    "\n",
    "\t\t# add together the shortcut and the final CONV\n",
    "\t\tx = add([conv3, shortcut])\n",
    "\n",
    "\t\t# return the addition as the output of the ResNet module\n",
    "\t\treturn x\n",
    "\n",
    "\t@staticmethod\n",
    "\tdef build(width, height, depth, classes, stages, filters,\n",
    "\t\treg=0.0001, bnEps=2e-5, bnMom=0.9, dataset=\"cifar\"):\n",
    "\t\t# initialize the input shape to be \"channels last\" and the\n",
    "\t\t# channels dimension itself\n",
    "\t\tinputShape = (height, width, depth)\n",
    "\t\tchanDim = -1\n",
    "\n",
    "\t\t# if we are using \"channels first\", update the input shape\n",
    "\t\t# and channels dimension\n",
    "\t\tif K.image_data_format() == \"channels_first\":\n",
    "\t\t\tinputShape = (depth, height, width)\n",
    "\t\t\tchanDim = 1\n",
    "\n",
    "\t\t# set the input and apply BN\n",
    "\t\tinputs = Input(shape=inputShape)\n",
    "\t\tx = BatchNormalization(axis=chanDim, epsilon=bnEps,\n",
    "\t\t\tmomentum=bnMom)(inputs)\n",
    "\n",
    "\t\t# check if we are utilizing the CIFAR dataset\n",
    "\t\tif dataset == \"cifar\":\n",
    "\t\t\t# apply a single CONV layer\n",
    "\t\t\tx = Conv2D(filters[0], (3, 3), use_bias=False,\n",
    "\t\t\t\tpadding=\"same\", kernel_regularizer=l2(reg))(x)\n",
    "\n",
    "\t\t# check to see if we are using the Tiny ImageNet dataset\n",
    "\t\telif dataset == \"tiny_imagenet\":\n",
    "\t\t\t# apply CONV => BN => ACT => POOL to reduce spatial size\n",
    "\t\t\tx = Conv2D(filters[0], (5, 5), use_bias=False,\n",
    "\t\t\t\tpadding=\"same\", kernel_regularizer=l2(reg))(x)\n",
    "\t\t\tx = BatchNormalization(axis=chanDim, epsilon=bnEps,\n",
    "\t\t\t\tmomentum=bnMom)(x)\n",
    "\t\t\tx = Activation(\"relu\")(x)\n",
    "\t\t\tx = ZeroPadding2D((1, 1))(x)\n",
    "\t\t\tx = MaxPooling2D((3, 3), strides=(2, 2))(x)\n",
    "\n",
    "\t\t# loop over the number of stages\n",
    "\t\tfor i in range(0, len(stages)):\n",
    "\t\t\t# initialize the stride, then apply a residual module\n",
    "\t\t\t# used to reduce the spatial size of the input volume\n",
    "\t\t\tstride = (1, 1) if i == 0 else (2, 2)\n",
    "\t\t\tx = ResNet.residual_module(x, filters[i + 1], stride,\n",
    "\t\t\t\tchanDim, red=True, bnEps=bnEps, bnMom=bnMom)\n",
    "\n",
    "\t\t\t# loop over the number of layers in the stage\n",
    "\t\t\tfor j in range(0, stages[i] - 1):\n",
    "\t\t\t\t# apply a ResNet module\n",
    "\t\t\t\tx = ResNet.residual_module(x, filters[i + 1],\n",
    "\t\t\t\t\t(1, 1), chanDim, bnEps=bnEps, bnMom=bnMom)\n",
    "\n",
    "\t\t# apply BN => ACT => POOL\n",
    "\t\tx = BatchNormalization(axis=chanDim, epsilon=bnEps,\n",
    "\t\t\tmomentum=bnMom)(x)\n",
    "\t\tx = Activation(\"relu\")(x)\n",
    "\t\tx = AveragePooling2D((8, 8))(x)\n",
    "\n",
    "\t\t# softmax classifier\n",
    "\t\tx = Flatten()(x)\n",
    "\t\tx = Dense(classes, kernel_regularizer=l2(reg))(x)\n",
    "\t\tx = Activation(\"softmax\")(x)\n",
    "\n",
    "\t\t# create the model\n",
    "\t\tmodel = Model(inputs, x, name=\"resnet\")\n",
    "\n",
    "\t\t# return the constructed network architecture\n",
    "\t\treturn model\n",
    "     "
   ]
  },
  {
   "cell_type": "code",
   "execution_count": 85,
   "id": "0c49dc4e",
   "metadata": {},
   "outputs": [],
   "source": [
    "EPOCHS = 50 # TRAINING THE MODEL FOR 200 EPOCHS\n",
    "INIT_LR = 1e-1  #LEARNING RATE SET AS 0.01\n",
    "BS = 1024 # BATCH SIZE"
   ]
  },
  {
   "cell_type": "code",
   "execution_count": 86,
   "id": "cda45ef8",
   "metadata": {},
   "outputs": [
    {
     "data": {
      "text/plain": [
       "array([ 0,  1,  2,  3,  4,  5,  6,  7,  8,  9, 10, 11, 12, 13, 14, 15, 16,\n",
       "       17, 18, 19, 20, 21, 22, 23, 24, 25, 26, 27, 28, 29, 30, 31, 32, 33,\n",
       "       34, 35, 36, 37, 38, 39, 40, 41, 42, 43, 44, 45, 46, 47, 48, 49, 50,\n",
       "       51, 52, 53, 54, 55, 56, 57, 58, 59, 60, 61])"
      ]
     },
     "execution_count": 86,
     "metadata": {},
     "output_type": "execute_result"
    }
   ],
   "source": [
    "le.classes_"
   ]
  },
  {
   "cell_type": "markdown",
   "id": "0d82aed6",
   "metadata": {},
   "source": [
    "# Model Compilation "
   ]
  },
  {
   "cell_type": "code",
   "execution_count": 87,
   "id": "7829eb2e",
   "metadata": {},
   "outputs": [
    {
     "name": "stdout",
     "output_type": "stream",
     "text": [
      "[INFO] compiling model...\n"
     ]
    }
   ],
   "source": [
    "print(\"[INFO] compiling model...\")\n",
    "opt = SGD(learning_rate=INIT_LR, decay=INIT_LR/EPOCHS) # Using SGD(Schotastic Gradient Descent) as optimizer\n",
    "\n",
    "model = ResNet.build(32, 32, 1, len(le.classes_), (3,3,3), (64, 64, 128, 256), reg=0.0005)\n",
    "\n",
    "model.compile(loss=\"categorical_crossentropy\", optimizer=opt, metrics=[\"accuracy\"])"
   ]
  },
  {
   "cell_type": "code",
   "execution_count": 88,
   "id": "b05e5980",
   "metadata": {},
   "outputs": [],
   "source": [
    "checkpoint_path = \"../models\"\n",
    "checkpoint_dir = os.path.dirname(checkpoint_path)"
   ]
  },
  {
   "cell_type": "code",
   "execution_count": 89,
   "id": "c9ee2744",
   "metadata": {},
   "outputs": [],
   "source": [
    "# Create a callback that saves the model's weights\n",
    "cp_callback = tf.keras.callbacks.ModelCheckpoint(filepath=checkpoint_path,\n",
    "                                                 save_weights_only=True,\n",
    "                                                 verbose=1)"
   ]
  },
  {
   "cell_type": "markdown",
   "id": "280815b3",
   "metadata": {},
   "source": [
    "# Training the model"
   ]
  },
  {
   "cell_type": "code",
   "execution_count": 90,
   "id": "7ec8d5ec",
   "metadata": {},
   "outputs": [],
   "source": [
    "import os\n",
    "os.environ[\"CUDA_DEVICE_ORDER\"] = \"PCI_BUS_ID\"  # Use PCI bus ID order\n",
    "os.environ[\"CUDA_VISIBLE_DEVICES\"] = \"0\"  # Use GPU with index 0 (change as needed)\n",
    "\n",
    "import tensorflow as tf\n",
    "\n",
    "# Create a TensorFlow session with GPU memory options\n",
    "config = tf.compat.v1.ConfigProto()\n",
    "config.gpu_options.per_process_gpu_memory_fraction = 0.9  # Allocate 90% of GPU memory\n",
    "session = tf.compat.v1.Session(config=config)\n",
    "tf.compat.v1.keras.backend.set_session(session)  # Set this session as the Keras backend session\n"
   ]
  },
  {
   "cell_type": "code",
   "execution_count": 92,
   "id": "45765895",
   "metadata": {},
   "outputs": [
    {
     "ename": "NameError",
     "evalue": "name 'bs' is not defined",
     "output_type": "error",
     "traceback": [
      "\u001b[1;31m---------------------------------------------------------------------------\u001b[0m",
      "\u001b[1;31mNameError\u001b[0m                                 Traceback (most recent call last)",
      "\u001b[1;32mc:\\Users\\Siddhanth\\Desktop\\OCR\\OCR.ipynb Cell 78\u001b[0m line \u001b[0;36m2\n\u001b[0;32m      <a href='vscode-notebook-cell:/c%3A/Users/Siddhanth/Desktop/OCR/OCR.ipynb#Y136sZmlsZQ%3D%3D?line=0'>1</a>\u001b[0m H \u001b[39m=\u001b[39m model\u001b[39m.\u001b[39mfit(\n\u001b[1;32m----> <a href='vscode-notebook-cell:/c%3A/Users/Siddhanth/Desktop/OCR/OCR.ipynb#Y136sZmlsZQ%3D%3D?line=1'>2</a>\u001b[0m     aug\u001b[39m.\u001b[39mflow(trainX, trainY, batch_size\u001b[39m=\u001b[39mbs),\n\u001b[0;32m      <a href='vscode-notebook-cell:/c%3A/Users/Siddhanth/Desktop/OCR/OCR.ipynb#Y136sZmlsZQ%3D%3D?line=2'>3</a>\u001b[0m     validation_data \u001b[39m=\u001b[39m (testX, testY),\n\u001b[0;32m      <a href='vscode-notebook-cell:/c%3A/Users/Siddhanth/Desktop/OCR/OCR.ipynb#Y136sZmlsZQ%3D%3D?line=3'>4</a>\u001b[0m     steps_per_epoch\u001b[39m=\u001b[39m\u001b[39mlen\u001b[39m(trainX) \u001b[39m/\u001b[39m\u001b[39m/\u001b[39m BS,\n\u001b[0;32m      <a href='vscode-notebook-cell:/c%3A/Users/Siddhanth/Desktop/OCR/OCR.ipynb#Y136sZmlsZQ%3D%3D?line=4'>5</a>\u001b[0m     epochs \u001b[39m=\u001b[39m EPOCHS,\n\u001b[0;32m      <a href='vscode-notebook-cell:/c%3A/Users/Siddhanth/Desktop/OCR/OCR.ipynb#Y136sZmlsZQ%3D%3D?line=5'>6</a>\u001b[0m     class_weight \u001b[39m=\u001b[39m classWeight,\n\u001b[0;32m      <a href='vscode-notebook-cell:/c%3A/Users/Siddhanth/Desktop/OCR/OCR.ipynb#Y136sZmlsZQ%3D%3D?line=6'>7</a>\u001b[0m     verbose\u001b[39m=\u001b[39m\u001b[39m1\u001b[39m, \n\u001b[0;32m      <a href='vscode-notebook-cell:/c%3A/Users/Siddhanth/Desktop/OCR/OCR.ipynb#Y136sZmlsZQ%3D%3D?line=7'>8</a>\u001b[0m     callbacks\u001b[39m=\u001b[39m[cp_callback]\n\u001b[0;32m      <a href='vscode-notebook-cell:/c%3A/Users/Siddhanth/Desktop/OCR/OCR.ipynb#Y136sZmlsZQ%3D%3D?line=8'>9</a>\u001b[0m )\n\u001b[0;32m     <a href='vscode-notebook-cell:/c%3A/Users/Siddhanth/Desktop/OCR/OCR.ipynb#Y136sZmlsZQ%3D%3D?line=9'>10</a>\u001b[0m model\u001b[39m.\u001b[39msave(\u001b[39m\"\u001b[39m\u001b[39mmodels/RESNET_OCR\u001b[39m\u001b[39m\"\u001b[39m, save_format\u001b[39m=\u001b[39m\u001b[39m'\u001b[39m\u001b[39m.h5\u001b[39m\u001b[39m'\u001b[39m)\n",
      "\u001b[1;31mNameError\u001b[0m: name 'bs' is not defined"
     ]
    }
   ],
   "source": [
    "H = model.fit(\n",
    "    aug.flow(trainX, trainY, batch_size=bs),\n",
    "    validation_data = (testX, testY),\n",
    "    steps_per_epoch=len(trainX) // BS,\n",
    "    epochs = EPOCHS,\n",
    "    class_weight = classWeight,\n",
    "    verbose=1, \n",
    "    callbacks=[cp_callback]\n",
    ")\n",
    "model.save(\"models/RESNET_OCR\", save_format='.h5')"
   ]
  },
  {
   "cell_type": "code",
   "execution_count": null,
   "id": "2850da75",
   "metadata": {},
   "outputs": [],
   "source": []
  },
  {
   "cell_type": "code",
   "execution_count": null,
   "id": "211a1133",
   "metadata": {},
   "outputs": [],
   "source": []
  }
 ],
 "metadata": {
  "kernelspec": {
   "display_name": "Python 3 (ipykernel)",
   "language": "python",
   "name": "python3"
  },
  "language_info": {
   "codemirror_mode": {
    "name": "ipython",
    "version": 3
   },
   "file_extension": ".py",
   "mimetype": "text/x-python",
   "name": "python",
   "nbconvert_exporter": "python",
   "pygments_lexer": "ipython3",
   "version": "3.9.17"
  }
 },
 "nbformat": 4,
 "nbformat_minor": 5
}
