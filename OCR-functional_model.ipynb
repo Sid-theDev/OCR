{
 "cells": [
  {
   "cell_type": "code",
   "execution_count": 1,
   "id": "4e0599a3",
   "metadata": {
    "ExecuteTime": {
     "end_time": "2023-09-30T09:30:33.624296200Z",
     "start_time": "2023-09-30T09:30:32.394883800Z"
    }
   },
   "outputs": [],
   "source": [
    "from tensorflow.keras.datasets import mnist\n",
    "import numpy as np\n",
    "import tensorflow as tf\n",
    "from tensorflow.keras.preprocessing.image import ImageDataGenerator\n",
    "from tensorflow.keras.optimizers import SGD\n",
    "from sklearn.model_selection import train_test_split\n",
    "from sklearn.metrics import classification_report\n",
    "from imutils import build_montages\n",
    "import matplotlib.pyplot as plt\n",
    "import argparse\n",
    "import cv2\n",
    "import os\n",
    "from collections import OrderedDict\n",
    "from sklearn.preprocessing import LabelBinarizer"
   ]
  },
  {
   "cell_type": "markdown",
   "id": "752d96af",
   "metadata": {},
   "source": [
    "# Data Preprocessing"
   ]
  },
  {
   "cell_type": "code",
   "execution_count": 2,
   "id": "05ac6333",
   "metadata": {
    "ExecuteTime": {
     "end_time": "2023-09-30T09:30:35.423091Z",
     "start_time": "2023-09-30T09:30:35.398385200Z"
    }
   },
   "outputs": [],
   "source": [
    "folders = []"
   ]
  },
  {
   "cell_type": "code",
   "execution_count": 3,
   "id": "34ae3b3b",
   "metadata": {
    "ExecuteTime": {
     "end_time": "2023-09-30T09:30:35.688575500Z",
     "start_time": "2023-09-30T09:30:35.646199Z"
    }
   },
   "outputs": [],
   "source": [
    "path = 'Data/EnglishImg/English/Img/GoodImg/Bmp'"
   ]
  },
  {
   "cell_type": "code",
   "execution_count": 4,
   "id": "d1581baa",
   "metadata": {
    "ExecuteTime": {
     "end_time": "2023-09-30T09:30:35.910391200Z",
     "start_time": "2023-09-30T09:30:35.840054100Z"
    }
   },
   "outputs": [],
   "source": [
    "for root, dirnames, filenames in os.walk(path):\n",
    "    for j in dirnames:\n",
    "        folders.append(j)"
   ]
  },
  {
   "cell_type": "code",
   "execution_count": 5,
   "id": "47b15763",
   "metadata": {
    "ExecuteTime": {
     "end_time": "2023-09-30T09:30:36.084351700Z",
     "start_time": "2023-09-30T09:30:36.009955700Z"
    }
   },
   "outputs": [
    {
     "data": {
      "text/plain": [
       "62"
      ]
     },
     "execution_count": 5,
     "metadata": {},
     "output_type": "execute_result"
    }
   ],
   "source": [
    "len(folders)"
   ]
  },
  {
   "cell_type": "code",
   "execution_count": 6,
   "id": "7cd106fc",
   "metadata": {
    "ExecuteTime": {
     "end_time": "2023-09-30T09:30:36.238263800Z",
     "start_time": "2023-09-30T09:30:36.205084Z"
    }
   },
   "outputs": [],
   "source": [
    "files = {}"
   ]
  },
  {
   "cell_type": "code",
   "execution_count": 7,
   "id": "8378950f",
   "metadata": {
    "ExecuteTime": {
     "end_time": "2023-09-30T09:30:36.953669800Z",
     "start_time": "2023-09-30T09:30:36.823757600Z"
    }
   },
   "outputs": [],
   "source": [
    "# Soring the files in ascending order of names\n",
    "for i in folders:\n",
    "    files[i]=os.listdir(\"Data/EnglishImg/English/Img/GoodImg/Bmp/\"+i)"
   ]
  },
  {
   "cell_type": "code",
   "execution_count": 8,
   "id": "442cec91",
   "metadata": {
    "ExecuteTime": {
     "end_time": "2023-09-30T09:30:36.954688100Z",
     "start_time": "2023-09-30T09:30:36.877417300Z"
    }
   },
   "outputs": [],
   "source": [
    "dict1 = OrderedDict(sorted(files.items()))"
   ]
  },
  {
   "cell_type": "code",
   "execution_count": 9,
   "id": "bdc920a8",
   "metadata": {
    "ExecuteTime": {
     "end_time": "2023-09-30T09:30:37.062630100Z",
     "start_time": "2023-09-30T09:30:36.906153200Z"
    }
   },
   "outputs": [
    {
     "data": {
      "text/plain": [
       "odict_keys(['Sample001', 'Sample002', 'Sample003', 'Sample004', 'Sample005', 'Sample006', 'Sample007', 'Sample008', 'Sample009', 'Sample010', 'Sample011', 'Sample012', 'Sample013', 'Sample014', 'Sample015', 'Sample016', 'Sample017', 'Sample018', 'Sample019', 'Sample020', 'Sample021', 'Sample022', 'Sample023', 'Sample024', 'Sample025', 'Sample026', 'Sample027', 'Sample028', 'Sample029', 'Sample030', 'Sample031', 'Sample032', 'Sample033', 'Sample034', 'Sample035', 'Sample036', 'Sample037', 'Sample038', 'Sample039', 'Sample040', 'Sample041', 'Sample042', 'Sample043', 'Sample044', 'Sample045', 'Sample046', 'Sample047', 'Sample048', 'Sample049', 'Sample050', 'Sample051', 'Sample052', 'Sample053', 'Sample054', 'Sample055', 'Sample056', 'Sample057', 'Sample058', 'Sample059', 'Sample060', 'Sample061', 'Sample062'])"
      ]
     },
     "execution_count": 9,
     "metadata": {},
     "output_type": "execute_result"
    }
   ],
   "source": [
    "dict1.keys()"
   ]
  },
  {
   "cell_type": "code",
   "execution_count": 10,
   "id": "ec047002",
   "metadata": {
    "ExecuteTime": {
     "end_time": "2023-09-30T09:30:37.226710100Z",
     "start_time": "2023-09-30T09:30:36.945325600Z"
    }
   },
   "outputs": [
    {
     "data": {
      "text/plain": [
       "['img001-00001.png',\n",
       " 'img001-00002.png',\n",
       " 'img001-00003.png',\n",
       " 'img001-00004.png',\n",
       " 'img001-00005.png',\n",
       " 'img001-00006.png',\n",
       " 'img001-00007.png',\n",
       " 'img001-00008.png',\n",
       " 'img001-00009.png',\n",
       " 'img001-00010.png',\n",
       " 'img001-00011.png',\n",
       " 'img001-00012.png',\n",
       " 'img001-00013.png',\n",
       " 'img001-00014.png',\n",
       " 'img001-00015.png',\n",
       " 'img001-00016.png',\n",
       " 'img001-00017.png',\n",
       " 'img001-00018.png',\n",
       " 'img001-00019.png',\n",
       " 'img001-00020.png',\n",
       " 'img001-00021.png',\n",
       " 'img001-00022.png',\n",
       " 'img001-00023.png',\n",
       " 'img001-00024.png',\n",
       " 'img001-00025.png',\n",
       " 'img001-00026.png',\n",
       " 'img001-00027.png',\n",
       " 'img001-00028.png',\n",
       " 'img001-00029.png',\n",
       " 'img001-00030.png',\n",
       " 'img001-00031.png',\n",
       " 'img001-00032.png',\n",
       " 'img001-00033.png',\n",
       " 'img001-00034.png',\n",
       " 'img001-00035.png',\n",
       " 'img001-00036.png',\n",
       " 'img001-00037.png',\n",
       " 'img001-00038.png',\n",
       " 'img001-00039.png',\n",
       " 'img001-00040.png',\n",
       " 'img001-00041.png',\n",
       " 'img001-00042.png',\n",
       " 'img001-00043.png',\n",
       " 'img001-00044.png',\n",
       " 'img001-00045.png',\n",
       " 'img001-00046.png',\n",
       " 'img001-00047.png',\n",
       " 'img001-00048.png',\n",
       " 'img001-00049.png',\n",
       " 'img001-00050.png',\n",
       " 'img001-00051.png',\n",
       " 'img001-00052.png',\n",
       " 'img001-00053.png',\n",
       " 'img001-00054.png',\n",
       " 'img001-00055.png',\n",
       " 'img001-00056.png',\n",
       " 'img001-00057.png',\n",
       " 'img001-00058.png',\n",
       " 'img001-00059.png',\n",
       " 'img001-00060.png',\n",
       " 'img001-00061.png',\n",
       " 'img001-00062.png',\n",
       " 'img001-00063.png',\n",
       " 'img001-00064.png',\n",
       " 'img001-00065.png',\n",
       " 'img001-00066.png',\n",
       " 'img001-00067.png',\n",
       " 'img001-00068.png',\n",
       " 'img001-00069.png',\n",
       " 'img001-00070.png',\n",
       " 'img001-00071.png',\n",
       " 'img001-00072.png',\n",
       " 'img001-00073.png',\n",
       " 'img001-00074.png',\n",
       " 'img001-00075.png',\n",
       " 'img001-00076.png',\n",
       " 'img001-00077.png',\n",
       " 'img001-00078.png',\n",
       " 'img001-00079.png',\n",
       " 'img001-00080.png',\n",
       " 'img001-00081.png',\n",
       " 'img001-00082.png',\n",
       " 'img001-00083.png',\n",
       " 'img001-00084.png',\n",
       " 'img001-00085.png',\n",
       " 'img001-00086.png',\n",
       " 'img001-00087.png',\n",
       " 'img001-00088.png',\n",
       " 'img001-00089.png',\n",
       " 'img001-00090.png',\n",
       " 'img001-00091.png',\n",
       " 'img001-00092.png',\n",
       " 'img001-00093.png',\n",
       " 'img001-00094.png',\n",
       " 'img001-00095.png',\n",
       " 'img001-00096.png',\n",
       " 'img001-00097.png',\n",
       " 'img001-00098.png',\n",
       " 'img001-00099.png',\n",
       " 'img001-00100.png',\n",
       " 'img001-00101.png',\n",
       " 'img001-00102.png',\n",
       " 'img001-00103.png',\n",
       " 'img001-00104.png',\n",
       " 'img001-00105.png']"
      ]
     },
     "execution_count": 10,
     "metadata": {},
     "output_type": "execute_result"
    }
   ],
   "source": [
    "dict1['Sample001']"
   ]
  },
  {
   "cell_type": "code",
   "execution_count": 11,
   "id": "f76bf137",
   "metadata": {
    "ExecuteTime": {
     "end_time": "2023-09-30T09:30:37.457893Z",
     "start_time": "2023-09-30T09:30:36.971195100Z"
    }
   },
   "outputs": [],
   "source": [
    "f = open(\"labels.txt\", \"a\")\n",
    "for i in dict1.keys():\n",
    "    for j in dict1[i]:\n",
    "        f.write(\"English/Img/GoodImg\"+i+\"/\"+j+\"\\n\")\n",
    "f.close()        "
   ]
  },
  {
   "cell_type": "code",
   "execution_count": 12,
   "id": "2bef5b59",
   "metadata": {
    "ExecuteTime": {
     "end_time": "2023-09-30T09:30:37.509668300Z",
     "start_time": "2023-09-30T09:30:37.010804100Z"
    }
   },
   "outputs": [],
   "source": [
    "l=\"0123456789ABCDEFGHIJKLMNOPQRSTUVWXYZabcdefghijklmnopqrstuvwxyz\"\n"
   ]
  },
  {
   "cell_type": "markdown",
   "id": "817dc124",
   "metadata": {},
   "source": [
    "## Creating labels and data "
   ]
  },
  {
   "cell_type": "code",
   "execution_count": 13,
   "id": "37e1613a",
   "metadata": {
    "ExecuteTime": {
     "end_time": "2023-09-30T09:30:37.623776Z",
     "start_time": "2023-09-30T09:30:37.109857600Z"
    }
   },
   "outputs": [],
   "source": [
    "data = []\n",
    "labels=[]\n",
    "tmp=0"
   ]
  },
  {
   "cell_type": "code",
   "execution_count": 14,
   "id": "6ed53e77",
   "metadata": {
    "ExecuteTime": {
     "end_time": "2023-09-30T09:30:37.863458800Z",
     "start_time": "2023-09-30T09:30:37.133995300Z"
    }
   },
   "outputs": [],
   "source": [
    "img = cv2.imread('Data/EnglishImg/English/Img/GoodImg/Bmp/Sample041/img041-00190.png')"
   ]
  },
  {
   "cell_type": "code",
   "execution_count": 15,
   "id": "5365b56a",
   "metadata": {
    "ExecuteTime": {
     "end_time": "2023-09-30T09:30:38.197686300Z",
     "start_time": "2023-09-30T09:30:37.159446100Z"
    }
   },
   "outputs": [
    {
     "data": {
      "text/plain": [
       "(62, 43, 3)"
      ]
     },
     "execution_count": 15,
     "metadata": {},
     "output_type": "execute_result"
    }
   ],
   "source": [
    "img.shape"
   ]
  },
  {
   "cell_type": "code",
   "execution_count": 16,
   "id": "db332dbd",
   "metadata": {
    "ExecuteTime": {
     "end_time": "2023-09-30T09:30:38.198695800Z",
     "start_time": "2023-09-30T09:30:37.172952400Z"
    }
   },
   "outputs": [],
   "source": [
    "img = cv2.cvtColor(img, cv2.COLOR_BGR2GRAY)"
   ]
  },
  {
   "cell_type": "markdown",
   "id": "9cefbd19",
   "metadata": {},
   "source": [
    "# Converting images to 28x28 "
   ]
  },
  {
   "cell_type": "code",
   "execution_count": 17,
   "id": "0dc19fc7",
   "metadata": {
    "ExecuteTime": {
     "end_time": "2023-09-30T09:30:38.313958300Z",
     "start_time": "2023-09-30T09:30:37.263218800Z"
    }
   },
   "outputs": [],
   "source": [
    "def conTO28x28(path):\n",
    "    \n",
    "    img = cv2.cvtColor(cv2.imread(path), cv2.COLOR_BGR2GRAY)   \n",
    "\n",
    "    # convert each image of shape (32, 28, 1)\n",
    "    w, h = img.shape\n",
    "    if h > 28 or w > 28:\n",
    "        \n",
    "        (tH, tW) = img.shape\n",
    "        dX = int(max(0, 28 - tW) / 2.0)\n",
    "        dY = int(max(0, 28 - tH) / 2.0)\n",
    "\n",
    "        img = cv2.copyMakeBorder(img, top=dY, bottom=dY,\n",
    "              left=dX, right=dX, borderType=cv2.BORDER_CONSTANT,\n",
    "              value=(0, 0, 0))\n",
    "        img = cv2.resize(img, (28, 28))\n",
    "\n",
    "    w, h = img.shape\n",
    "\n",
    "    if w < 28:\n",
    "        add_zeros = np.ones((28-w, h))*255\n",
    "        img = np.concatenate((img, add_zeros))\n",
    "\n",
    "    if h < 28:\n",
    "        add_zeros = np.ones((28, 28-h))*255\n",
    "        img = np.concatenate((img, add_zeros), axis=1)\n",
    "    return img"
   ]
  },
  {
   "cell_type": "code",
   "execution_count": 18,
   "id": "5a8fb4a5",
   "metadata": {
    "ExecuteTime": {
     "end_time": "2023-09-30T09:30:38.437452300Z",
     "start_time": "2023-09-30T09:30:37.295711900Z"
    }
   },
   "outputs": [],
   "source": [
    "image = conTO28x28('Data/EnglishImg/English/Img/GoodImg/Bmp/Sample001/img001-00001.png')"
   ]
  },
  {
   "cell_type": "code",
   "execution_count": 19,
   "id": "edbdb2cd",
   "metadata": {
    "ExecuteTime": {
     "end_time": "2023-09-30T09:30:38.610115300Z",
     "start_time": "2023-09-30T09:30:37.314574200Z"
    }
   },
   "outputs": [
    {
     "data": {
      "text/plain": [
       "(28, 28)"
      ]
     },
     "execution_count": 19,
     "metadata": {},
     "output_type": "execute_result"
    }
   ],
   "source": [
    "image.shape"
   ]
  },
  {
   "cell_type": "code",
   "execution_count": 20,
   "id": "bf89b795",
   "metadata": {
    "ExecuteTime": {
     "end_time": "2023-09-30T09:30:39.289086800Z",
     "start_time": "2023-09-30T09:30:37.331072700Z"
    }
   },
   "outputs": [
    {
     "data": {
      "text/plain": [
       "<matplotlib.image.AxesImage at 0x1cba24902b0>"
      ]
     },
     "execution_count": 20,
     "metadata": {},
     "output_type": "execute_result"
    },
    {
     "data": {
      "image/png": "[encoded data removed]",
      "text/plain": [
       "<Figure size 640x480 with 1 Axes>"
      ]
     },
     "metadata": {},
     "output_type": "display_data"
    }
   ],
   "source": [
    "plt.imshow(image)"
   ]
  },
  {
   "cell_type": "markdown",
   "id": "7f70f39d",
   "metadata": {},
   "source": [
    "# Giving Labels to images"
   ]
  },
  {
   "cell_type": "code",
   "execution_count": 21,
   "id": "386cb7bf",
   "metadata": {
    "ExecuteTime": {
     "end_time": "2023-09-30T09:30:44.815127100Z",
     "start_time": "2023-09-30T09:30:37.541063600Z"
    }
   },
   "outputs": [],
   "source": [
    "for i in dict1.keys():\n",
    "    for j in dict1[i]:\n",
    "        labels.append(tmp)\n",
    "        image = conTO28x28(\"Data/EnglishImg/English/Img/GoodImg/Bmp/\"+i+\"/\"+j)\n",
    "        data.append(image)\n",
    "    tmp+=1"
   ]
  },
  {
   "cell_type": "code",
   "execution_count": 22,
   "id": "4f3c5732",
   "metadata": {
    "ExecuteTime": {
     "end_time": "2023-09-30T09:30:44.831073300Z",
     "start_time": "2023-09-30T09:30:44.818117500Z"
    }
   },
   "outputs": [],
   "source": [
    "from numpy import save"
   ]
  },
  {
   "cell_type": "code",
   "execution_count": 23,
   "id": "391c8986",
   "metadata": {
    "ExecuteTime": {
     "end_time": "2023-09-30T09:30:44.892243900Z",
     "start_time": "2023-09-30T09:30:44.834063600Z"
    }
   },
   "outputs": [
    {
     "data": {
      "text/plain": [
       "7705"
      ]
     },
     "execution_count": 23,
     "metadata": {},
     "output_type": "execute_result"
    }
   ],
   "source": [
    "len(labels)"
   ]
  },
  {
   "cell_type": "code",
   "execution_count": 24,
   "id": "8b31cfe2",
   "metadata": {
    "ExecuteTime": {
     "end_time": "2023-09-30T09:30:44.908897100Z",
     "start_time": "2023-09-30T09:30:44.848946100Z"
    }
   },
   "outputs": [],
   "source": [
    "labels = np.array(labels, dtype=\"int\")\n",
    "data = np.array(data, dtype='float32')"
   ]
  },
  {
   "cell_type": "code",
   "execution_count": 25,
   "id": "40e1cade",
   "metadata": {
    "ExecuteTime": {
     "end_time": "2023-09-30T09:30:44.927197600Z",
     "start_time": "2023-09-30T09:30:44.880258800Z"
    }
   },
   "outputs": [
    {
     "data": {
      "text/plain": [
       "62"
      ]
     },
     "execution_count": 25,
     "metadata": {},
     "output_type": "execute_result"
    }
   ],
   "source": [
    "tmp"
   ]
  },
  {
   "cell_type": "code",
   "execution_count": 26,
   "id": "1eb11ebb",
   "metadata": {
    "ExecuteTime": {
     "end_time": "2023-09-30T09:30:44.951402Z",
     "start_time": "2023-09-30T09:30:44.897653300Z"
    }
   },
   "outputs": [
    {
     "data": {
      "text/plain": [
       "array([ 0,  0,  0, ..., 61, 61, 61])"
      ]
     },
     "execution_count": 26,
     "metadata": {},
     "output_type": "execute_result"
    }
   ],
   "source": [
    "labels"
   ]
  },
  {
   "cell_type": "code",
   "execution_count": 27,
   "id": "e225fd2b",
   "metadata": {
    "ExecuteTime": {
     "end_time": "2023-09-30T09:30:45.032417600Z",
     "start_time": "2023-09-30T09:30:44.913633700Z"
    }
   },
   "outputs": [],
   "source": [
    "save('data.npy', data)\n",
    "save('labels.npy', labels)"
   ]
  },
  {
   "cell_type": "code",
   "execution_count": 28,
   "id": "7243c037",
   "metadata": {
    "ExecuteTime": {
     "end_time": "2023-09-30T09:30:45.054460200Z",
     "start_time": "2023-09-30T09:30:44.949339300Z"
    }
   },
   "outputs": [],
   "source": [
    "tmp_data = np.load('data.npy')"
   ]
  },
  {
   "cell_type": "code",
   "execution_count": 29,
   "id": "c6121751",
   "metadata": {
    "ExecuteTime": {
     "end_time": "2023-09-30T09:30:45.054460200Z",
     "start_time": "2023-09-30T09:30:44.973906100Z"
    }
   },
   "outputs": [
    {
     "data": {
      "text/plain": [
       "(7705, 28, 28)"
      ]
     },
     "execution_count": 29,
     "metadata": {},
     "output_type": "execute_result"
    }
   ],
   "source": [
    "tmp_data.shape"
   ]
  },
  {
   "cell_type": "markdown",
   "id": "0706c549",
   "metadata": {},
   "source": [
    "# Combining Mnist and A-Z datasets "
   ]
  },
  {
   "cell_type": "code",
   "execution_count": 30,
   "id": "50e9df43",
   "metadata": {
    "ExecuteTime": {
     "end_time": "2023-09-30T09:30:45.054460200Z",
     "start_time": "2023-09-30T09:30:44.993786600Z"
    }
   },
   "outputs": [],
   "source": [
    "def load_az_dataset(datasetPath):\n",
    "    data = []\n",
    "    labels = []\n",
    "    for row in open(datasetPath):\n",
    "        row = row.split(\",\")\n",
    "        label = int(row[0])\n",
    "        image = np.array([int(x) for x in row[1:]], dtype=\"uint8\")\n",
    "        image = image.reshape((28,28))\n",
    "        data.append(image)\n",
    "        labels.append(label)\n",
    "    data = np.array(data, dtype=\"float32\")\n",
    "    labels = np.array(labels, dtype=\"int\")\n",
    "    return (data, labels)"
   ]
  },
  {
   "cell_type": "code",
   "execution_count": 31,
   "id": "6a39fb82",
   "metadata": {
    "ExecuteTime": {
     "end_time": "2023-09-30T09:31:33.009373900Z",
     "start_time": "2023-09-30T09:30:45.006604700Z"
    }
   },
   "outputs": [],
   "source": [
    "((trainData, trainLabels), (testData, testLabels)) = mnist.load_data()\n",
    "(azData, azLabels) = load_az_dataset(\"Data/A_Z Handwritten Data.csv\")"
   ]
  },
  {
   "cell_type": "code",
   "execution_count": 32,
   "id": "8cf7e45e",
   "metadata": {
    "ExecuteTime": {
     "end_time": "2023-09-30T09:31:33.033378900Z",
     "start_time": "2023-09-30T09:31:33.011367600Z"
    }
   },
   "outputs": [
    {
     "data": {
      "text/plain": [
       "(372451, 28, 28)"
      ]
     },
     "execution_count": 32,
     "metadata": {},
     "output_type": "execute_result"
    }
   ],
   "source": [
    "azData.shape"
   ]
  },
  {
   "cell_type": "markdown",
   "id": "dda95179",
   "metadata": {},
   "source": [
    "# Stacking up the training set and test set of mnist"
   ]
  },
  {
   "cell_type": "code",
   "execution_count": 33,
   "id": "dff116f0",
   "metadata": {
    "ExecuteTime": {
     "end_time": "2023-09-30T09:31:33.100353300Z",
     "start_time": "2023-09-30T09:31:33.029392800Z"
    }
   },
   "outputs": [],
   "source": [
    "mnist_data = np.vstack([trainData, testData])\n",
    "mnist_labels = np.hstack([trainLabels, testLabels])"
   ]
  },
  {
   "cell_type": "code",
   "execution_count": 34,
   "id": "ec637ed0",
   "metadata": {
    "ExecuteTime": {
     "end_time": "2023-09-30T09:31:33.111836Z",
     "start_time": "2023-09-30T09:31:33.058737600Z"
    }
   },
   "outputs": [
    {
     "data": {
      "text/plain": [
       "(28, 28)"
      ]
     },
     "execution_count": 34,
     "metadata": {},
     "output_type": "execute_result"
    }
   ],
   "source": [
    "mnist_data[0].shape"
   ]
  },
  {
   "cell_type": "code",
   "execution_count": 35,
   "id": "ae251dd2",
   "metadata": {
    "ExecuteTime": {
     "end_time": "2023-09-30T09:31:33.111836Z",
     "start_time": "2023-09-30T09:31:33.074137Z"
    }
   },
   "outputs": [
    {
     "data": {
      "text/plain": [
       "(7705,)"
      ]
     },
     "execution_count": 35,
     "metadata": {},
     "output_type": "execute_result"
    }
   ],
   "source": [
    "labels.shape"
   ]
  },
  {
   "cell_type": "code",
   "execution_count": 36,
   "id": "43b45bb8",
   "metadata": {
    "ExecuteTime": {
     "end_time": "2023-09-30T09:31:33.114829600Z",
     "start_time": "2023-09-30T09:31:33.090314100Z"
    }
   },
   "outputs": [],
   "source": [
    "azLabels+=10"
   ]
  },
  {
   "cell_type": "markdown",
   "id": "ffebb167",
   "metadata": {},
   "source": [
    "# Combining all the three datasets"
   ]
  },
  {
   "cell_type": "code",
   "execution_count": 37,
   "id": "de5e0314",
   "metadata": {
    "ExecuteTime": {
     "end_time": "2023-09-30T09:31:33.506412900Z",
     "start_time": "2023-09-30T09:31:33.105589Z"
    }
   },
   "outputs": [],
   "source": [
    "labels1=np.hstack([mnist_labels, labels, azLabels])\n",
    "data1=np.vstack([mnist_data, data, azData])"
   ]
  },
  {
   "cell_type": "code",
   "execution_count": 38,
   "id": "38496313",
   "metadata": {
    "ExecuteTime": {
     "end_time": "2023-09-30T09:31:33.525586500Z",
     "start_time": "2023-09-30T09:31:33.507902700Z"
    }
   },
   "outputs": [
    {
     "data": {
      "text/plain": [
       "(450156,)"
      ]
     },
     "execution_count": 38,
     "metadata": {},
     "output_type": "execute_result"
    }
   ],
   "source": [
    "labels1.shape"
   ]
  },
  {
   "cell_type": "code",
   "execution_count": 39,
   "id": "b3434b2c",
   "metadata": {
    "ExecuteTime": {
     "end_time": "2023-09-30T09:31:33.580919800Z",
     "start_time": "2023-09-30T09:31:33.524470Z"
    }
   },
   "outputs": [
    {
     "data": {
      "text/plain": [
       "(450156, 28, 28)"
      ]
     },
     "execution_count": 39,
     "metadata": {},
     "output_type": "execute_result"
    }
   ],
   "source": [
    "data1.shape"
   ]
  },
  {
   "cell_type": "markdown",
   "id": "7bf3577e",
   "metadata": {},
   "source": [
    "# Saving the combined dataset into .npy"
   ]
  },
  {
   "cell_type": "code",
   "execution_count": 40,
   "id": "4d50895d",
   "metadata": {
    "ExecuteTime": {
     "end_time": "2023-09-30T09:31:35.241984400Z",
     "start_time": "2023-09-30T09:31:33.537058300Z"
    }
   },
   "outputs": [],
   "source": [
    "save(\"Data/combined_data.npy\", data1)\n",
    "save(\"Data/combined_labels.npy\", labels1)"
   ]
  },
  {
   "cell_type": "code",
   "execution_count": 41,
   "id": "2ce9c232",
   "metadata": {
    "ExecuteTime": {
     "end_time": "2023-09-30T09:31:35.866770100Z",
     "start_time": "2023-09-30T09:31:35.241984400Z"
    }
   },
   "outputs": [],
   "source": [
    "loaded_data = np.load('Data/combined_data.npy')\n",
    "loaded_labels = np.load('Data/combined_labels.npy')"
   ]
  },
  {
   "cell_type": "code",
   "execution_count": 42,
   "id": "09de1f41",
   "metadata": {
    "ExecuteTime": {
     "end_time": "2023-09-30T09:31:35.890701400Z",
     "start_time": "2023-09-30T09:31:35.869758300Z"
    }
   },
   "outputs": [
    {
     "data": {
      "text/plain": [
       "(450156, 28, 28)"
      ]
     },
     "execution_count": 42,
     "metadata": {},
     "output_type": "execute_result"
    }
   ],
   "source": [
    "loaded_data.shape"
   ]
  },
  {
   "cell_type": "code",
   "execution_count": 43,
   "id": "f0ab7e78",
   "metadata": {
    "ExecuteTime": {
     "end_time": "2023-09-30T09:31:35.944359Z",
     "start_time": "2023-09-30T09:31:35.885711700Z"
    }
   },
   "outputs": [
    {
     "data": {
      "text/plain": [
       "(450156,)"
      ]
     },
     "execution_count": 43,
     "metadata": {},
     "output_type": "execute_result"
    }
   ],
   "source": [
    "loaded_labels.shape"
   ]
  },
  {
   "cell_type": "code",
   "execution_count": 44,
   "id": "34d5fc48",
   "metadata": {
    "ExecuteTime": {
     "end_time": "2023-09-30T09:31:36.040531800Z",
     "start_time": "2023-09-30T09:31:35.900654500Z"
    }
   },
   "outputs": [
    {
     "data": {
      "text/plain": [
       "<matplotlib.image.AxesImage at 0x1cba46f2b50>"
      ]
     },
     "execution_count": 44,
     "metadata": {},
     "output_type": "execute_result"
    },
    {
     "data": {
      "image/png": "[encoded data removed]",
      "text/plain": [
       "<Figure size 640x480 with 1 Axes>"
      ]
     },
     "metadata": {},
     "output_type": "display_data"
    }
   ],
   "source": [
    "plt.imshow(loaded_data[-50000])"
   ]
  },
  {
   "cell_type": "code",
   "execution_count": 45,
   "id": "9efbd1d9",
   "metadata": {
    "ExecuteTime": {
     "end_time": "2023-09-30T09:31:36.105334Z",
     "start_time": "2023-09-30T09:31:36.041529200Z"
    }
   },
   "outputs": [],
   "source": [
    "tmp_img = cv2.resize(loaded_data[0], (32, 32))"
   ]
  },
  {
   "cell_type": "code",
   "execution_count": 46,
   "id": "22d5973d",
   "metadata": {
    "ExecuteTime": {
     "end_time": "2023-09-30T09:31:36.105334Z",
     "start_time": "2023-09-30T09:31:36.057475400Z"
    }
   },
   "outputs": [
    {
     "data": {
      "text/plain": [
       "(32, 32)"
      ]
     },
     "execution_count": 46,
     "metadata": {},
     "output_type": "execute_result"
    }
   ],
   "source": [
    "tmp_img.shape"
   ]
  },
  {
   "cell_type": "code",
   "execution_count": 47,
   "id": "8a1710cb",
   "metadata": {
    "ExecuteTime": {
     "end_time": "2023-09-30T09:31:40.983413300Z",
     "start_time": "2023-09-30T09:31:36.079421300Z"
    }
   },
   "outputs": [],
   "source": [
    "data = [cv2.resize(image, (32,32)) for image in loaded_data]\n",
    "data = np.array(data, dtype='float32')"
   ]
  },
  {
   "cell_type": "code",
   "execution_count": 48,
   "id": "fcb585d8",
   "metadata": {
    "ExecuteTime": {
     "end_time": "2023-09-30T09:31:40.984756700Z",
     "start_time": "2023-09-30T09:31:40.959226800Z"
    }
   },
   "outputs": [
    {
     "data": {
      "text/plain": [
       "(450156, 32, 32)"
      ]
     },
     "execution_count": 48,
     "metadata": {},
     "output_type": "execute_result"
    }
   ],
   "source": [
    "data.shape"
   ]
  },
  {
   "cell_type": "code",
   "execution_count": 49,
   "id": "e1ce08f7",
   "metadata": {
    "ExecuteTime": {
     "end_time": "2023-09-30T09:31:41.005124100Z",
     "start_time": "2023-09-30T09:31:40.975609700Z"
    }
   },
   "outputs": [],
   "source": [
    "data2 = np.expand_dims(data, axis=-1)"
   ]
  },
  {
   "cell_type": "code",
   "execution_count": 50,
   "id": "9b0bcd59",
   "metadata": {
    "ExecuteTime": {
     "end_time": "2023-09-30T09:31:41.018902300Z",
     "start_time": "2023-09-30T09:31:40.989416700Z"
    }
   },
   "outputs": [
    {
     "data": {
      "text/plain": [
       "(450156, 32, 32, 1)"
      ]
     },
     "execution_count": 50,
     "metadata": {},
     "output_type": "execute_result"
    }
   ],
   "source": [
    "data2.shape"
   ]
  },
  {
   "cell_type": "code",
   "execution_count": 51,
   "id": "7d6c24f3",
   "metadata": {
    "ExecuteTime": {
     "end_time": "2023-09-30T09:31:41.299227200Z",
     "start_time": "2023-09-30T09:31:41.008456Z"
    }
   },
   "outputs": [],
   "source": [
    "le = LabelBinarizer()\n",
    "labels = le.fit_transform(loaded_labels)\n",
    "counts = labels.sum(axis=0)"
   ]
  },
  {
   "cell_type": "code",
   "execution_count": 52,
   "id": "b8e6342c",
   "metadata": {
    "ExecuteTime": {
     "end_time": "2023-09-30T09:31:41.317769800Z",
     "start_time": "2023-09-30T09:31:41.302635500Z"
    }
   },
   "outputs": [
    {
     "data": {
      "text/plain": [
       "array([0, 0, 0, 0, 0, 1, 0, 0, 0, 0, 0, 0, 0, 0, 0, 0, 0, 0, 0, 0, 0, 0,\n",
       "       0, 0, 0, 0, 0, 0, 0, 0, 0, 0, 0, 0, 0, 0, 0, 0, 0, 0, 0, 0, 0, 0,\n",
       "       0, 0, 0, 0, 0, 0, 0, 0, 0, 0, 0, 0, 0, 0, 0, 0, 0, 0])"
      ]
     },
     "execution_count": 52,
     "metadata": {},
     "output_type": "execute_result"
    }
   ],
   "source": [
    "labels[0]"
   ]
  },
  {
   "cell_type": "markdown",
   "id": "c5413cdc",
   "metadata": {},
   "source": [
    "# Calculating class weights in dataset"
   ]
  },
  {
   "cell_type": "code",
   "execution_count": 53,
   "id": "869b06e4",
   "metadata": {
    "ExecuteTime": {
     "end_time": "2023-09-30T09:31:41.364990400Z",
     "start_time": "2023-09-30T09:31:41.315348300Z"
    }
   },
   "outputs": [],
   "source": [
    "classTotals = labels.sum(axis=0)\n",
    "classWeight = {}\n",
    "\n",
    "for i in range(0, len(classTotals)):\n",
    "    classWeight[i] = classTotals.max() / classTotals[i]"
   ]
  },
  {
   "cell_type": "code",
   "execution_count": 54,
   "id": "95e88236",
   "metadata": {
    "ExecuteTime": {
     "end_time": "2023-09-30T09:31:41.383277700Z",
     "start_time": "2023-09-30T09:31:41.363874300Z"
    }
   },
   "outputs": [
    {
     "data": {
      "text/plain": [
       "{0: 8.305793378995434,\n",
       " 1: 7.316113624937154,\n",
       " 2: 8.244617563739377,\n",
       " 3: 8.094423585036852,\n",
       " 4: 8.471401542715762,\n",
       " 5: 9.127646228634154,\n",
       " 6: 8.387175792507204,\n",
       " 7: 7.929028742678109,\n",
       " 8: 8.488697681201693,\n",
       " 9: 8.324799771167047,\n",
       " 10: 4.034308289437205,\n",
       " 11: 6.6272344301491515,\n",
       " 12: 2.463892651540806,\n",
       " 13: 5.637481840193705,\n",
       " 14: 4.897105838801952,\n",
       " 15: 46.86553945249597,\n",
       " 16: 9.857239627434378,\n",
       " 17: 7.85413574416408,\n",
       " 18: 40.933192686357245,\n",
       " 19: 6.791948658109685,\n",
       " 20: 10.22071992976295,\n",
       " 21: 4.932378611982036,\n",
       " 22: 4.662154585502603,\n",
       " 23: 3.004542404377226,\n",
       " 24: 1.0,\n",
       " 25: 2.984974358974359,\n",
       " 26: 9.955019668205917,\n",
       " 27: 4.868841488916771,\n",
       " 28: 1.1937203912963228,\n",
       " 29: 2.5521550401192616,\n",
       " 30: 2.000240549828179,\n",
       " 31: 13.644397562119082,\n",
       " 32: 5.364206063957239,\n",
       " 33: 9.163570528967254,\n",
       " 34: 5.327384221123925,\n",
       " 35: 9.493883542652096,\n",
       " 36: 368.3987341772152,\n",
       " 37: 1531.7631578947369,\n",
       " 38: 923.9206349206349,\n",
       " 39: 1265.3695652173913,\n",
       " 40: 256.4185022026432,\n",
       " 41: 1573.162162162162,\n",
       " 42: 1616.861111111111,\n",
       " 43: 1119.3653846153845,\n",
       " 44: 458.3228346456693,\n",
       " 45: 1763.8484848484848,\n",
       " 46: 1711.9705882352941,\n",
       " 47: 1003.5689655172414,\n",
       " 48: 1353.6511627906978,\n",
       " 49: 431.162962962963,\n",
       " 50: 393.2905405405405,\n",
       " 51: 1573.162162162162,\n",
       " 52: 1077.9074074074074,\n",
       " 53: 461.96031746031747,\n",
       " 54: 469.41129032258067,\n",
       " 55: 524.3873873873874,\n",
       " 56: 1419.6829268292684,\n",
       " 57: 1763.8484848484848,\n",
       " 58: 1616.861111111111,\n",
       " 59: 1663.057142857143,\n",
       " 60: 1353.6511627906978,\n",
       " 61: 1663.057142857143}"
      ]
     },
     "execution_count": 54,
     "metadata": {},
     "output_type": "execute_result"
    }
   ],
   "source": [
    "classWeight"
   ]
  },
  {
   "cell_type": "markdown",
   "id": "33cd2893",
   "metadata": {},
   "source": [
    "# Performing data augmentation"
   ]
  },
  {
   "cell_type": "code",
   "execution_count": 55,
   "id": "c43f8af6",
   "metadata": {
    "ExecuteTime": {
     "end_time": "2023-09-30T09:32:04.273606100Z",
     "start_time": "2023-09-30T09:31:41.379301300Z"
    }
   },
   "outputs": [],
   "source": [
    "(trainX, testX, trainY, testY) = train_test_split(data2,\n",
    "\tlabels, test_size=0.25, stratify=labels, random_state=42)"
   ]
  },
  {
   "cell_type": "code",
   "execution_count": 56,
   "id": "b1ae24b6",
   "metadata": {
    "ExecuteTime": {
     "end_time": "2023-09-30T09:32:04.290548500Z",
     "start_time": "2023-09-30T09:32:04.283570600Z"
    }
   },
   "outputs": [],
   "source": [
    "aug = ImageDataGenerator(\n",
    "    rotation_range = 10,\n",
    "    zoom_range=0.05,\n",
    "    width_shift_range=0.1,\n",
    "    shear_range=0.15,\n",
    "    height_shift_range=0.1,\n",
    "    fill_mode=\"nearest\"\n",
    ")"
   ]
  },
  {
   "cell_type": "markdown",
   "id": "b09deadc",
   "metadata": {},
   "source": [
    "# Building Resnet Model"
   ]
  },
  {
   "cell_type": "code",
   "execution_count": 57,
   "id": "979b365b",
   "metadata": {
    "ExecuteTime": {
     "end_time": "2023-09-30T09:32:04.330436100Z",
     "start_time": "2023-09-30T09:32:04.296530100Z"
    }
   },
   "outputs": [],
   "source": [
    "import os\n",
    "import cv2\n",
    "import numpy as np\n",
    "import tensorflow as tf\n",
    "from keras.models import Model\n",
    "from keras.layers import Input, BatchNormalization, Activation, Conv2D, AveragePooling2D, Flatten, Dense\n",
    "from keras.layers import add\n",
    "from keras.regularizers import l2\n",
    "from sklearn.model_selection import train_test_split\n",
    "from sklearn.preprocessing import LabelBinarizer\n",
    "from keras.optimizers import SGD\n",
    "from keras.preprocessing.image import ImageDataGenerator"
   ]
  },
  {
   "cell_type": "code",
   "execution_count": 58,
   "id": "dffcabe9",
   "metadata": {
    "ExecuteTime": {
     "end_time": "2023-09-30T09:32:04.697234800Z",
     "start_time": "2023-09-30T09:32:04.684747300Z"
    }
   },
   "outputs": [],
   "source": [
    "def residual_module(data, K, stride, chanDim, red=False,\n",
    "                    reg=0.0001, bnEps=2e-5, bnMom=0.9):\n",
    "    shortcut = data\n",
    "\n",
    "    bn1 = BatchNormalization(axis=chanDim, epsilon=bnEps,\n",
    "                             momentum=bnMom)(data)\n",
    "    act1 = Activation(\"relu\")(bn1)\n",
    "    conv1 = Conv2D(int(K * 0.25), (1, 1), use_bias=False,\n",
    "                   kernel_regularizer=l2(reg))(act1)\n",
    "\n",
    "    bn2 = BatchNormalization(axis=chanDim, epsilon=bnEps,\n",
    "                             momentum=bnMom)(conv1)\n",
    "    act2 = Activation(\"relu\")(bn2)\n",
    "    conv2 = Conv2D(int(K * 0.25), (3, 3), strides=stride,\n",
    "                   padding=\"same\", use_bias=False,\n",
    "                   kernel_regularizer=l2(reg))(act2)\n",
    "\n",
    "    bn3 = BatchNormalization(axis=chanDim, epsilon=bnEps,\n",
    "                             momentum=bnMom)(conv2)\n",
    "    act3 = Activation(\"relu\")(bn3)\n",
    "    conv3 = Conv2D(K, (1, 1), use_bias=False,\n",
    "                   kernel_regularizer=l2(reg))(act3)\n",
    "\n",
    "    if red:\n",
    "        shortcut = Conv2D(K, (1, 1), strides=stride,\n",
    "                           use_bias=False, kernel_regularizer=l2(reg))(act1)\n",
    "\n",
    "    x = add([conv3, shortcut])\n",
    "    return x\n"
   ]
  },
  {
   "cell_type": "code",
   "execution_count": 62,
   "id": "4ba6d1bd",
   "metadata": {},
   "outputs": [],
   "source": [
    "def build_resnet(inputShape, classes, stages, filters,\n",
    "                 reg=0.0001, bnEps=2e-5, bnMom=0.9, dataset=\"cifar\"):\n",
    "    chanDim = -1\n",
    "    if tf.keras.backend.image_data_format() == \"channels_first\":\n",
    "        inputShape = (inputShape[2], inputShape[0], inputShape[1])\n",
    "        chanDim = 1\n",
    "\n",
    "    inputs = Input(shape=inputShape)\n",
    "    x = BatchNormalization(axis=chanDim, epsilon=bnEps,\n",
    "                           momentum=bnMom)(inputs)\n",
    "\n",
    "    if dataset == \"cifar\":\n",
    "        x = Conv2D(filters[0], (3, 3), use_bias=False,\n",
    "                   padding=\"same\", kernel_regularizer=l2(reg))(x)\n",
    "    elif dataset == \"tiny_imagenet\":\n",
    "        x = Conv2D(filters[0], (5, 5), use_bias=False,\n",
    "                   padding=\"same\", kernel_regularizer=l2(reg))(x)\n",
    "        x = BatchNormalization(axis=chanDim, epsilon=bnEps,\n",
    "                               momentum=bnMom)(x)\n",
    "        x = Activation(\"relu\")(x)\n",
    "        x = AveragePooling2D((3, 3), strides=(2, 2))(x)\n",
    "\n",
    "    for i in range(0, len(stages)):\n",
    "        stride = (1, 1) if i == 0 else (2, 2)\n",
    "        x = residual_module(x, filters[i + 1], stride,\n",
    "                            chanDim, red=True, bnEps=bnEps, bnMom=bnMom)\n",
    "\n",
    "        for j in range(0, stages[i] - 1):\n",
    "            x = residual_module(x, filters[i + 1],\n",
    "                                (1, 1), chanDim, bnEps=bnEps, bnMom=bnMom)\n",
    "\n",
    "    x = BatchNormalization(axis=chanDim, epsilon=bnEps,\n",
    "                           momentum=bnMom)(x)\n",
    "    x = Activation(\"relu\")(x)\n",
    "    x = AveragePooling2D((8, 8))(x)\n",
    "    x = Flatten()(x)\n",
    "    x = Dense(classes, kernel_regularizer=l2(reg))(x)\n",
    "    x = Activation(\"softmax\")(x)\n",
    "\n",
    "    model = Model(inputs, x, name=\"resnet\")\n",
    "    return model\n"
   ]
  },
  {
   "cell_type": "code",
   "execution_count": 63,
   "id": "461fae5e",
   "metadata": {},
   "outputs": [],
   "source": [
    "def train_resnet_model(model, trainX, trainY, testX, testY, classWeight, EPOCHS, INIT_LR, BS, checkpoint_path):\n",
    "    print(\"[INFO] compiling model...\")\n",
    "    opt = SGD(learning_rate=INIT_LR, decay=INIT_LR / EPOCHS)\n",
    "\n",
    "    model.compile(loss=\"categorical_crossentropy\", optimizer=opt, metrics=[\"accuracy\"])\n",
    "\n",
    "    checkpoint_dir = os.path.dirname(checkpoint_path)\n",
    "\n",
    "    cp_callback = tf.keras.callbacks.ModelCheckpoint(filepath=checkpoint_path,\n",
    "                                                     save_weights_only=True,\n",
    "                                                     verbose=1)\n",
    "\n",
    "    aug = ImageDataGenerator(\n",
    "        rotation_range=10,\n",
    "        zoom_range=0.05,\n",
    "        width_shift_range=0.1,\n",
    "        shear_range=0.15,\n",
    "        height_shift_range=0.1,\n",
    "        fill_mode=\"nearest\"\n",
    "    )\n",
    "\n",
    "    H = model.fit(\n",
    "        aug.flow(trainX, trainY, batch_size=BS),\n",
    "        validation_data=(testX, testY),\n",
    "        steps_per_epoch=len(trainX) // BS,\n",
    "        epochs=EPOCHS,\n",
    "        class_weight=classWeight,\n",
    "        verbose=1,\n",
    "        callbacks=[cp_callback]\n",
    "    )\n",
    "\n",
    "    model.save(\"models/RESNET_OCR\", save_format='.h5')\n"
   ]
  },
  {
   "cell_type": "code",
   "execution_count": 64,
   "id": "9e534fe8",
   "metadata": {},
   "outputs": [],
   "source": [
    "inputShape = (32, 32, 1)  \n",
    "classes =  len(le.classes_) # Number of classes \n",
    "stages = [3, 3, 3] \n",
    "filters = [64, 64, 128, 256]  \n",
    "model = build_resnet(inputShape, classes, stages, filters)\n",
    "\n",
    "checkpoint_path = \"../models\""
   ]
  },
  {
   "cell_type": "code",
   "execution_count": 65,
   "id": "eddd906a",
   "metadata": {},
   "outputs": [
    {
     "name": "stdout",
     "output_type": "stream",
     "text": [
      "[INFO] compiling model...\n",
      "Epoch 1/25\n",
      " 103/1318 [=>............................] - ETA: 4:00 - loss: 47.9825 - accuracy: 0.0259"
     ]
    },
    {
     "ename": "KeyboardInterrupt",
     "evalue": "",
     "output_type": "error",
     "traceback": [
      "\u001b[1;31m---------------------------------------------------------------------------\u001b[0m",
      "\u001b[1;31mKeyboardInterrupt\u001b[0m                         Traceback (most recent call last)",
      "Cell \u001b[1;32mIn[65], line 1\u001b[0m\n\u001b[1;32m----> 1\u001b[0m \u001b[43mtrain_resnet_model\u001b[49m\u001b[43m(\u001b[49m\u001b[43mmodel\u001b[49m\u001b[43m,\u001b[49m\u001b[43m \u001b[49m\u001b[43mtrainX\u001b[49m\u001b[43m,\u001b[49m\u001b[43m \u001b[49m\u001b[43mtrainY\u001b[49m\u001b[43m,\u001b[49m\u001b[43m \u001b[49m\u001b[43mtestX\u001b[49m\u001b[43m,\u001b[49m\u001b[43m \u001b[49m\u001b[43mtestY\u001b[49m\u001b[43m,\u001b[49m\u001b[43m \u001b[49m\u001b[43mclassWeight\u001b[49m\u001b[43m,\u001b[49m\u001b[43m \u001b[49m\u001b[43mEPOCHS\u001b[49m\u001b[38;5;241;43m=\u001b[39;49m\u001b[38;5;241;43m25\u001b[39;49m\u001b[43m,\u001b[49m\u001b[43m \u001b[49m\u001b[43mINIT_LR\u001b[49m\u001b[43m \u001b[49m\u001b[38;5;241;43m=\u001b[39;49m\u001b[43m \u001b[49m\u001b[38;5;241;43m1e-1\u001b[39;49m\u001b[43m,\u001b[49m\u001b[43m \u001b[49m\u001b[43mBS\u001b[49m\u001b[38;5;241;43m=\u001b[39;49m\u001b[38;5;241;43m256\u001b[39;49m\u001b[43m,\u001b[49m\u001b[43m \u001b[49m\u001b[43mcheckpoint_path\u001b[49m\u001b[43m \u001b[49m\u001b[38;5;241;43m=\u001b[39;49m\u001b[43m \u001b[49m\u001b[38;5;124;43m\"\u001b[39;49m\u001b[38;5;124;43m../models\u001b[39;49m\u001b[38;5;124;43m\"\u001b[39;49m\u001b[43m)\u001b[49m\n\u001b[0;32m      2\u001b[0m \u001b[38;5;28mprint\u001b[39m(\u001b[38;5;124m\"\u001b[39m\u001b[38;5;124mModel Saved in models/RESNET_OCR\u001b[39m\u001b[38;5;124m\"\u001b[39m)\n",
      "Cell \u001b[1;32mIn[63], line 22\u001b[0m, in \u001b[0;36mtrain_resnet_model\u001b[1;34m(model, trainX, trainY, testX, testY, classWeight, EPOCHS, INIT_LR, BS, checkpoint_path)\u001b[0m\n\u001b[0;32m      9\u001b[0m cp_callback \u001b[38;5;241m=\u001b[39m tf\u001b[38;5;241m.\u001b[39mkeras\u001b[38;5;241m.\u001b[39mcallbacks\u001b[38;5;241m.\u001b[39mModelCheckpoint(filepath\u001b[38;5;241m=\u001b[39mcheckpoint_path,\n\u001b[0;32m     10\u001b[0m                                                  save_weights_only\u001b[38;5;241m=\u001b[39m\u001b[38;5;28;01mTrue\u001b[39;00m,\n\u001b[0;32m     11\u001b[0m                                                  verbose\u001b[38;5;241m=\u001b[39m\u001b[38;5;241m1\u001b[39m)\n\u001b[0;32m     13\u001b[0m aug \u001b[38;5;241m=\u001b[39m ImageDataGenerator(\n\u001b[0;32m     14\u001b[0m     rotation_range\u001b[38;5;241m=\u001b[39m\u001b[38;5;241m10\u001b[39m,\n\u001b[0;32m     15\u001b[0m     zoom_range\u001b[38;5;241m=\u001b[39m\u001b[38;5;241m0.05\u001b[39m,\n\u001b[1;32m   (...)\u001b[0m\n\u001b[0;32m     19\u001b[0m     fill_mode\u001b[38;5;241m=\u001b[39m\u001b[38;5;124m\"\u001b[39m\u001b[38;5;124mnearest\u001b[39m\u001b[38;5;124m\"\u001b[39m\n\u001b[0;32m     20\u001b[0m )\n\u001b[1;32m---> 22\u001b[0m H \u001b[38;5;241m=\u001b[39m \u001b[43mmodel\u001b[49m\u001b[38;5;241;43m.\u001b[39;49m\u001b[43mfit\u001b[49m\u001b[43m(\u001b[49m\n\u001b[0;32m     23\u001b[0m \u001b[43m    \u001b[49m\u001b[43maug\u001b[49m\u001b[38;5;241;43m.\u001b[39;49m\u001b[43mflow\u001b[49m\u001b[43m(\u001b[49m\u001b[43mtrainX\u001b[49m\u001b[43m,\u001b[49m\u001b[43m \u001b[49m\u001b[43mtrainY\u001b[49m\u001b[43m,\u001b[49m\u001b[43m \u001b[49m\u001b[43mbatch_size\u001b[49m\u001b[38;5;241;43m=\u001b[39;49m\u001b[43mBS\u001b[49m\u001b[43m)\u001b[49m\u001b[43m,\u001b[49m\n\u001b[0;32m     24\u001b[0m \u001b[43m    \u001b[49m\u001b[43mvalidation_data\u001b[49m\u001b[38;5;241;43m=\u001b[39;49m\u001b[43m(\u001b[49m\u001b[43mtestX\u001b[49m\u001b[43m,\u001b[49m\u001b[43m \u001b[49m\u001b[43mtestY\u001b[49m\u001b[43m)\u001b[49m\u001b[43m,\u001b[49m\n\u001b[0;32m     25\u001b[0m \u001b[43m    \u001b[49m\u001b[43msteps_per_epoch\u001b[49m\u001b[38;5;241;43m=\u001b[39;49m\u001b[38;5;28;43mlen\u001b[39;49m\u001b[43m(\u001b[49m\u001b[43mtrainX\u001b[49m\u001b[43m)\u001b[49m\u001b[43m \u001b[49m\u001b[38;5;241;43m/\u001b[39;49m\u001b[38;5;241;43m/\u001b[39;49m\u001b[43m \u001b[49m\u001b[43mBS\u001b[49m\u001b[43m,\u001b[49m\n\u001b[0;32m     26\u001b[0m \u001b[43m    \u001b[49m\u001b[43mepochs\u001b[49m\u001b[38;5;241;43m=\u001b[39;49m\u001b[43mEPOCHS\u001b[49m\u001b[43m,\u001b[49m\n\u001b[0;32m     27\u001b[0m \u001b[43m    \u001b[49m\u001b[43mclass_weight\u001b[49m\u001b[38;5;241;43m=\u001b[39;49m\u001b[43mclassWeight\u001b[49m\u001b[43m,\u001b[49m\n\u001b[0;32m     28\u001b[0m \u001b[43m    \u001b[49m\u001b[43mverbose\u001b[49m\u001b[38;5;241;43m=\u001b[39;49m\u001b[38;5;241;43m1\u001b[39;49m\u001b[43m,\u001b[49m\n\u001b[0;32m     29\u001b[0m \u001b[43m    \u001b[49m\u001b[43mcallbacks\u001b[49m\u001b[38;5;241;43m=\u001b[39;49m\u001b[43m[\u001b[49m\u001b[43mcp_callback\u001b[49m\u001b[43m]\u001b[49m\n\u001b[0;32m     30\u001b[0m \u001b[43m\u001b[49m\u001b[43m)\u001b[49m\n\u001b[0;32m     32\u001b[0m model\u001b[38;5;241m.\u001b[39msave(\u001b[38;5;124m\"\u001b[39m\u001b[38;5;124mmodels/RESNET_OCR\u001b[39m\u001b[38;5;124m\"\u001b[39m, save_format\u001b[38;5;241m=\u001b[39m\u001b[38;5;124m'\u001b[39m\u001b[38;5;124m.h5\u001b[39m\u001b[38;5;124m'\u001b[39m)\n",
      "File \u001b[1;32m~\\anaconda3\\envs\\gpu_environment\\lib\\site-packages\\keras\\utils\\traceback_utils.py:65\u001b[0m, in \u001b[0;36mfilter_traceback.<locals>.error_handler\u001b[1;34m(*args, **kwargs)\u001b[0m\n\u001b[0;32m     63\u001b[0m filtered_tb \u001b[38;5;241m=\u001b[39m \u001b[38;5;28;01mNone\u001b[39;00m\n\u001b[0;32m     64\u001b[0m \u001b[38;5;28;01mtry\u001b[39;00m:\n\u001b[1;32m---> 65\u001b[0m     \u001b[38;5;28;01mreturn\u001b[39;00m fn(\u001b[38;5;241m*\u001b[39margs, \u001b[38;5;241m*\u001b[39m\u001b[38;5;241m*\u001b[39mkwargs)\n\u001b[0;32m     66\u001b[0m \u001b[38;5;28;01mexcept\u001b[39;00m \u001b[38;5;167;01mException\u001b[39;00m \u001b[38;5;28;01mas\u001b[39;00m e:\n\u001b[0;32m     67\u001b[0m     filtered_tb \u001b[38;5;241m=\u001b[39m _process_traceback_frames(e\u001b[38;5;241m.\u001b[39m__traceback__)\n",
      "File \u001b[1;32m~\\anaconda3\\envs\\gpu_environment\\lib\\site-packages\\keras\\engine\\training.py:1564\u001b[0m, in \u001b[0;36mModel.fit\u001b[1;34m(self, x, y, batch_size, epochs, verbose, callbacks, validation_split, validation_data, shuffle, class_weight, sample_weight, initial_epoch, steps_per_epoch, validation_steps, validation_batch_size, validation_freq, max_queue_size, workers, use_multiprocessing)\u001b[0m\n\u001b[0;32m   1556\u001b[0m \u001b[38;5;28;01mwith\u001b[39;00m tf\u001b[38;5;241m.\u001b[39mprofiler\u001b[38;5;241m.\u001b[39mexperimental\u001b[38;5;241m.\u001b[39mTrace(\n\u001b[0;32m   1557\u001b[0m     \u001b[38;5;124m\"\u001b[39m\u001b[38;5;124mtrain\u001b[39m\u001b[38;5;124m\"\u001b[39m,\n\u001b[0;32m   1558\u001b[0m     epoch_num\u001b[38;5;241m=\u001b[39mepoch,\n\u001b[1;32m   (...)\u001b[0m\n\u001b[0;32m   1561\u001b[0m     _r\u001b[38;5;241m=\u001b[39m\u001b[38;5;241m1\u001b[39m,\n\u001b[0;32m   1562\u001b[0m ):\n\u001b[0;32m   1563\u001b[0m     callbacks\u001b[38;5;241m.\u001b[39mon_train_batch_begin(step)\n\u001b[1;32m-> 1564\u001b[0m     tmp_logs \u001b[38;5;241m=\u001b[39m \u001b[38;5;28;43mself\u001b[39;49m\u001b[38;5;241;43m.\u001b[39;49m\u001b[43mtrain_function\u001b[49m\u001b[43m(\u001b[49m\u001b[43miterator\u001b[49m\u001b[43m)\u001b[49m\n\u001b[0;32m   1565\u001b[0m     \u001b[38;5;28;01mif\u001b[39;00m data_handler\u001b[38;5;241m.\u001b[39mshould_sync:\n\u001b[0;32m   1566\u001b[0m         context\u001b[38;5;241m.\u001b[39masync_wait()\n",
      "File \u001b[1;32m~\\anaconda3\\envs\\gpu_environment\\lib\\site-packages\\tensorflow\\python\\util\\traceback_utils.py:150\u001b[0m, in \u001b[0;36mfilter_traceback.<locals>.error_handler\u001b[1;34m(*args, **kwargs)\u001b[0m\n\u001b[0;32m    148\u001b[0m filtered_tb \u001b[38;5;241m=\u001b[39m \u001b[38;5;28;01mNone\u001b[39;00m\n\u001b[0;32m    149\u001b[0m \u001b[38;5;28;01mtry\u001b[39;00m:\n\u001b[1;32m--> 150\u001b[0m   \u001b[38;5;28;01mreturn\u001b[39;00m fn(\u001b[38;5;241m*\u001b[39margs, \u001b[38;5;241m*\u001b[39m\u001b[38;5;241m*\u001b[39mkwargs)\n\u001b[0;32m    151\u001b[0m \u001b[38;5;28;01mexcept\u001b[39;00m \u001b[38;5;167;01mException\u001b[39;00m \u001b[38;5;28;01mas\u001b[39;00m e:\n\u001b[0;32m    152\u001b[0m   filtered_tb \u001b[38;5;241m=\u001b[39m _process_traceback_frames(e\u001b[38;5;241m.\u001b[39m__traceback__)\n",
      "File \u001b[1;32m~\\anaconda3\\envs\\gpu_environment\\lib\\site-packages\\tensorflow\\python\\eager\\def_function.py:915\u001b[0m, in \u001b[0;36mFunction.__call__\u001b[1;34m(self, *args, **kwds)\u001b[0m\n\u001b[0;32m    912\u001b[0m compiler \u001b[38;5;241m=\u001b[39m \u001b[38;5;124m\"\u001b[39m\u001b[38;5;124mxla\u001b[39m\u001b[38;5;124m\"\u001b[39m \u001b[38;5;28;01mif\u001b[39;00m \u001b[38;5;28mself\u001b[39m\u001b[38;5;241m.\u001b[39m_jit_compile \u001b[38;5;28;01melse\u001b[39;00m \u001b[38;5;124m\"\u001b[39m\u001b[38;5;124mnonXla\u001b[39m\u001b[38;5;124m\"\u001b[39m\n\u001b[0;32m    914\u001b[0m \u001b[38;5;28;01mwith\u001b[39;00m OptionalXlaContext(\u001b[38;5;28mself\u001b[39m\u001b[38;5;241m.\u001b[39m_jit_compile):\n\u001b[1;32m--> 915\u001b[0m   result \u001b[38;5;241m=\u001b[39m \u001b[38;5;28mself\u001b[39m\u001b[38;5;241m.\u001b[39m_call(\u001b[38;5;241m*\u001b[39margs, \u001b[38;5;241m*\u001b[39m\u001b[38;5;241m*\u001b[39mkwds)\n\u001b[0;32m    917\u001b[0m new_tracing_count \u001b[38;5;241m=\u001b[39m \u001b[38;5;28mself\u001b[39m\u001b[38;5;241m.\u001b[39mexperimental_get_tracing_count()\n\u001b[0;32m    918\u001b[0m without_tracing \u001b[38;5;241m=\u001b[39m (tracing_count \u001b[38;5;241m==\u001b[39m new_tracing_count)\n",
      "File \u001b[1;32m~\\anaconda3\\envs\\gpu_environment\\lib\\site-packages\\tensorflow\\python\\eager\\def_function.py:947\u001b[0m, in \u001b[0;36mFunction._call\u001b[1;34m(self, *args, **kwds)\u001b[0m\n\u001b[0;32m    944\u001b[0m   \u001b[38;5;28mself\u001b[39m\u001b[38;5;241m.\u001b[39m_lock\u001b[38;5;241m.\u001b[39mrelease()\n\u001b[0;32m    945\u001b[0m   \u001b[38;5;66;03m# In this case we have created variables on the first call, so we run the\u001b[39;00m\n\u001b[0;32m    946\u001b[0m   \u001b[38;5;66;03m# defunned version which is guaranteed to never create variables.\u001b[39;00m\n\u001b[1;32m--> 947\u001b[0m   \u001b[38;5;28;01mreturn\u001b[39;00m \u001b[38;5;28mself\u001b[39m\u001b[38;5;241m.\u001b[39m_stateless_fn(\u001b[38;5;241m*\u001b[39margs, \u001b[38;5;241m*\u001b[39m\u001b[38;5;241m*\u001b[39mkwds)  \u001b[38;5;66;03m# pylint: disable=not-callable\u001b[39;00m\n\u001b[0;32m    948\u001b[0m \u001b[38;5;28;01melif\u001b[39;00m \u001b[38;5;28mself\u001b[39m\u001b[38;5;241m.\u001b[39m_stateful_fn \u001b[38;5;129;01mis\u001b[39;00m \u001b[38;5;129;01mnot\u001b[39;00m \u001b[38;5;28;01mNone\u001b[39;00m:\n\u001b[0;32m    949\u001b[0m   \u001b[38;5;66;03m# Release the lock early so that multiple threads can perform the call\u001b[39;00m\n\u001b[0;32m    950\u001b[0m   \u001b[38;5;66;03m# in parallel.\u001b[39;00m\n\u001b[0;32m    951\u001b[0m   \u001b[38;5;28mself\u001b[39m\u001b[38;5;241m.\u001b[39m_lock\u001b[38;5;241m.\u001b[39mrelease()\n",
      "File \u001b[1;32m~\\anaconda3\\envs\\gpu_environment\\lib\\site-packages\\tensorflow\\python\\eager\\function.py:2496\u001b[0m, in \u001b[0;36mFunction.__call__\u001b[1;34m(self, *args, **kwargs)\u001b[0m\n\u001b[0;32m   2493\u001b[0m \u001b[38;5;28;01mwith\u001b[39;00m \u001b[38;5;28mself\u001b[39m\u001b[38;5;241m.\u001b[39m_lock:\n\u001b[0;32m   2494\u001b[0m   (graph_function,\n\u001b[0;32m   2495\u001b[0m    filtered_flat_args) \u001b[38;5;241m=\u001b[39m \u001b[38;5;28mself\u001b[39m\u001b[38;5;241m.\u001b[39m_maybe_define_function(args, kwargs)\n\u001b[1;32m-> 2496\u001b[0m \u001b[38;5;28;01mreturn\u001b[39;00m \u001b[43mgraph_function\u001b[49m\u001b[38;5;241;43m.\u001b[39;49m\u001b[43m_call_flat\u001b[49m\u001b[43m(\u001b[49m\n\u001b[0;32m   2497\u001b[0m \u001b[43m    \u001b[49m\u001b[43mfiltered_flat_args\u001b[49m\u001b[43m,\u001b[49m\u001b[43m \u001b[49m\u001b[43mcaptured_inputs\u001b[49m\u001b[38;5;241;43m=\u001b[39;49m\u001b[43mgraph_function\u001b[49m\u001b[38;5;241;43m.\u001b[39;49m\u001b[43mcaptured_inputs\u001b[49m\u001b[43m)\u001b[49m\n",
      "File \u001b[1;32m~\\anaconda3\\envs\\gpu_environment\\lib\\site-packages\\tensorflow\\python\\eager\\function.py:1862\u001b[0m, in \u001b[0;36mConcreteFunction._call_flat\u001b[1;34m(self, args, captured_inputs, cancellation_manager)\u001b[0m\n\u001b[0;32m   1858\u001b[0m possible_gradient_type \u001b[38;5;241m=\u001b[39m gradients_util\u001b[38;5;241m.\u001b[39mPossibleTapeGradientTypes(args)\n\u001b[0;32m   1859\u001b[0m \u001b[38;5;28;01mif\u001b[39;00m (possible_gradient_type \u001b[38;5;241m==\u001b[39m gradients_util\u001b[38;5;241m.\u001b[39mPOSSIBLE_GRADIENT_TYPES_NONE\n\u001b[0;32m   1860\u001b[0m     \u001b[38;5;129;01mand\u001b[39;00m executing_eagerly):\n\u001b[0;32m   1861\u001b[0m   \u001b[38;5;66;03m# No tape is watching; skip to running the function.\u001b[39;00m\n\u001b[1;32m-> 1862\u001b[0m   \u001b[38;5;28;01mreturn\u001b[39;00m \u001b[38;5;28mself\u001b[39m\u001b[38;5;241m.\u001b[39m_build_call_outputs(\u001b[38;5;28;43mself\u001b[39;49m\u001b[38;5;241;43m.\u001b[39;49m\u001b[43m_inference_function\u001b[49m\u001b[38;5;241;43m.\u001b[39;49m\u001b[43mcall\u001b[49m\u001b[43m(\u001b[49m\n\u001b[0;32m   1863\u001b[0m \u001b[43m      \u001b[49m\u001b[43mctx\u001b[49m\u001b[43m,\u001b[49m\u001b[43m \u001b[49m\u001b[43margs\u001b[49m\u001b[43m,\u001b[49m\u001b[43m \u001b[49m\u001b[43mcancellation_manager\u001b[49m\u001b[38;5;241;43m=\u001b[39;49m\u001b[43mcancellation_manager\u001b[49m\u001b[43m)\u001b[49m)\n\u001b[0;32m   1864\u001b[0m forward_backward \u001b[38;5;241m=\u001b[39m \u001b[38;5;28mself\u001b[39m\u001b[38;5;241m.\u001b[39m_select_forward_and_backward_functions(\n\u001b[0;32m   1865\u001b[0m     args,\n\u001b[0;32m   1866\u001b[0m     possible_gradient_type,\n\u001b[0;32m   1867\u001b[0m     executing_eagerly)\n\u001b[0;32m   1868\u001b[0m forward_function, args_with_tangents \u001b[38;5;241m=\u001b[39m forward_backward\u001b[38;5;241m.\u001b[39mforward()\n",
      "File \u001b[1;32m~\\anaconda3\\envs\\gpu_environment\\lib\\site-packages\\tensorflow\\python\\eager\\function.py:499\u001b[0m, in \u001b[0;36m_EagerDefinedFunction.call\u001b[1;34m(self, ctx, args, cancellation_manager)\u001b[0m\n\u001b[0;32m    497\u001b[0m \u001b[38;5;28;01mwith\u001b[39;00m _InterpolateFunctionError(\u001b[38;5;28mself\u001b[39m):\n\u001b[0;32m    498\u001b[0m   \u001b[38;5;28;01mif\u001b[39;00m cancellation_manager \u001b[38;5;129;01mis\u001b[39;00m \u001b[38;5;28;01mNone\u001b[39;00m:\n\u001b[1;32m--> 499\u001b[0m     outputs \u001b[38;5;241m=\u001b[39m \u001b[43mexecute\u001b[49m\u001b[38;5;241;43m.\u001b[39;49m\u001b[43mexecute\u001b[49m\u001b[43m(\u001b[49m\n\u001b[0;32m    500\u001b[0m \u001b[43m        \u001b[49m\u001b[38;5;28;43mstr\u001b[39;49m\u001b[43m(\u001b[49m\u001b[38;5;28;43mself\u001b[39;49m\u001b[38;5;241;43m.\u001b[39;49m\u001b[43msignature\u001b[49m\u001b[38;5;241;43m.\u001b[39;49m\u001b[43mname\u001b[49m\u001b[43m)\u001b[49m\u001b[43m,\u001b[49m\n\u001b[0;32m    501\u001b[0m \u001b[43m        \u001b[49m\u001b[43mnum_outputs\u001b[49m\u001b[38;5;241;43m=\u001b[39;49m\u001b[38;5;28;43mself\u001b[39;49m\u001b[38;5;241;43m.\u001b[39;49m\u001b[43m_num_outputs\u001b[49m\u001b[43m,\u001b[49m\n\u001b[0;32m    502\u001b[0m \u001b[43m        \u001b[49m\u001b[43minputs\u001b[49m\u001b[38;5;241;43m=\u001b[39;49m\u001b[43margs\u001b[49m\u001b[43m,\u001b[49m\n\u001b[0;32m    503\u001b[0m \u001b[43m        \u001b[49m\u001b[43mattrs\u001b[49m\u001b[38;5;241;43m=\u001b[39;49m\u001b[43mattrs\u001b[49m\u001b[43m,\u001b[49m\n\u001b[0;32m    504\u001b[0m \u001b[43m        \u001b[49m\u001b[43mctx\u001b[49m\u001b[38;5;241;43m=\u001b[39;49m\u001b[43mctx\u001b[49m\u001b[43m)\u001b[49m\n\u001b[0;32m    505\u001b[0m   \u001b[38;5;28;01melse\u001b[39;00m:\n\u001b[0;32m    506\u001b[0m     outputs \u001b[38;5;241m=\u001b[39m execute\u001b[38;5;241m.\u001b[39mexecute_with_cancellation(\n\u001b[0;32m    507\u001b[0m         \u001b[38;5;28mstr\u001b[39m(\u001b[38;5;28mself\u001b[39m\u001b[38;5;241m.\u001b[39msignature\u001b[38;5;241m.\u001b[39mname),\n\u001b[0;32m    508\u001b[0m         num_outputs\u001b[38;5;241m=\u001b[39m\u001b[38;5;28mself\u001b[39m\u001b[38;5;241m.\u001b[39m_num_outputs,\n\u001b[1;32m   (...)\u001b[0m\n\u001b[0;32m    511\u001b[0m         ctx\u001b[38;5;241m=\u001b[39mctx,\n\u001b[0;32m    512\u001b[0m         cancellation_manager\u001b[38;5;241m=\u001b[39mcancellation_manager)\n",
      "File \u001b[1;32m~\\anaconda3\\envs\\gpu_environment\\lib\\site-packages\\tensorflow\\python\\eager\\execute.py:54\u001b[0m, in \u001b[0;36mquick_execute\u001b[1;34m(op_name, num_outputs, inputs, attrs, ctx, name)\u001b[0m\n\u001b[0;32m     52\u001b[0m \u001b[38;5;28;01mtry\u001b[39;00m:\n\u001b[0;32m     53\u001b[0m   ctx\u001b[38;5;241m.\u001b[39mensure_initialized()\n\u001b[1;32m---> 54\u001b[0m   tensors \u001b[38;5;241m=\u001b[39m \u001b[43mpywrap_tfe\u001b[49m\u001b[38;5;241;43m.\u001b[39;49m\u001b[43mTFE_Py_Execute\u001b[49m\u001b[43m(\u001b[49m\u001b[43mctx\u001b[49m\u001b[38;5;241;43m.\u001b[39;49m\u001b[43m_handle\u001b[49m\u001b[43m,\u001b[49m\u001b[43m \u001b[49m\u001b[43mdevice_name\u001b[49m\u001b[43m,\u001b[49m\u001b[43m \u001b[49m\u001b[43mop_name\u001b[49m\u001b[43m,\u001b[49m\n\u001b[0;32m     55\u001b[0m \u001b[43m                                      \u001b[49m\u001b[43minputs\u001b[49m\u001b[43m,\u001b[49m\u001b[43m \u001b[49m\u001b[43mattrs\u001b[49m\u001b[43m,\u001b[49m\u001b[43m \u001b[49m\u001b[43mnum_outputs\u001b[49m\u001b[43m)\u001b[49m\n\u001b[0;32m     56\u001b[0m \u001b[38;5;28;01mexcept\u001b[39;00m core\u001b[38;5;241m.\u001b[39m_NotOkStatusException \u001b[38;5;28;01mas\u001b[39;00m e:\n\u001b[0;32m     57\u001b[0m   \u001b[38;5;28;01mif\u001b[39;00m name \u001b[38;5;129;01mis\u001b[39;00m \u001b[38;5;129;01mnot\u001b[39;00m \u001b[38;5;28;01mNone\u001b[39;00m:\n",
      "\u001b[1;31mKeyboardInterrupt\u001b[0m: "
     ]
    }
   ],
   "source": [
    "train_resnet_model(model, trainX, trainY, testX, testY, classWeight, EPOCHS=25, INIT_LR = 1e-1, BS=256, checkpoint_path = \"../models\")\n",
    "print(\"Model Saved in models/RESNET_OCR\")"
   ]
  },
  {
   "cell_type": "code",
   "execution_count": null,
   "id": "15b7dbf4",
   "metadata": {},
   "outputs": [],
   "source": []
  }
 ],
 "metadata": {
  "kernelspec": {
   "display_name": "Python 3 (ipykernel)",
   "language": "python",
   "name": "python3"
  },
  "language_info": {
   "codemirror_mode": {
    "name": "ipython",
    "version": 3
   },
   "file_extension": ".py",
   "mimetype": "text/x-python",
   "name": "python",
   "nbconvert_exporter": "python",
   "pygments_lexer": "ipython3",
   "version": "3.9.17"
  }
 },
 "nbformat": 4,
 "nbformat_minor": 5
}
